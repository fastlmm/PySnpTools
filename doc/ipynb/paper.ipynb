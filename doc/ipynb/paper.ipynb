{
 "cells": [
  {
   "cell_type": "markdown",
   "metadata": {},
   "source": [
    "# PySnpTools Paper Examples\n",
    "\n",
    "See [PySnpTools's README.md](https://github.com/fastlmm/PySnpTools/blob/master/README.md) for slides, video, installation instructions, documentation, and code.\n",
    "\n",
    "> Version 0.4.22, September 13, 2020\n",
    "\n",
    "### Contacts\n",
    "\n",
    "* Email the developers at fastlmm-dev@python.org.\n",
    "* [Join](mailto:fastlmm-user-join@python.org?subject=Subscribe) the user discussion and announcement list (or use [web sign up](https://mail.python.org/mailman3/lists/fastlmm-user.python.org)).\n",
    "* [Open an issue](https://github.com/fastlmm/PySnpTools/issues) on GitHub.\n",
    "\n",
    "\n",
    "## Step up notebook"
   ]
  },
  {
   "cell_type": "code",
   "execution_count": 1,
   "metadata": {},
   "outputs": [],
   "source": [
    "# set some ipython notebook properties\n",
    "%matplotlib inline\n",
    "\n",
    "# set degree of verbosity (adapt to INFO for more verbose output)\n",
    "import logging\n",
    "logging.basicConfig(level=logging.WARNING)\n",
    "\n",
    "# set figure sizes\n",
    "import pylab\n",
    "pylab.rcParams['figure.figsize'] = (10.0, 8.0)"
   ]
  },
  {
   "cell_type": "markdown",
   "metadata": {},
   "source": [
    "## Reading Genomic Files\n",
    "\n",
    "#### Example\n",
    "Create a \"Bed\" snpreader. Tell it what file to read and how to read it. The snpreader, as yet, reads no files."
   ]
  },
  {
   "cell_type": "code",
   "execution_count": 2,
   "metadata": {},
   "outputs": [
    {
     "data": {
      "text/plain": [
       "'M:\\\\Temp\\\\carl/hashdown/de3b6b13abdfc441608d45fe030db4a0/doc/ipynb/all.bed'"
      ]
     },
     "execution_count": 2,
     "metadata": {},
     "output_type": "execute_result"
    }
   ],
   "source": [
    "# Download BED files and return local file name\n",
    "from pysnptools.util import example_file\n",
    "all_bed_file = example_file(\"doc/ipynb/all.*\",endswith=\"*.bed\")\n",
    "all_bed_file"
   ]
  },
  {
   "cell_type": "code",
   "execution_count": 3,
   "metadata": {},
   "outputs": [
    {
     "name": "stdout",
     "output_type": "stream",
     "text": [
      "Bed('M:\\Temp\\carl/hashdown/de3b6b13abdfc441608d45fe030db4a0/doc/ipynb/all.bed',count_A1=True)\n"
     ]
    }
   ],
   "source": [
    "from pysnptools.snpreader import Bed\n",
    "snpreader = Bed(all_bed_file, count_A1=True)\n",
    "print(snpreader)"
   ]
  },
  {
   "cell_type": "markdown",
   "metadata": {},
   "source": [
    "Ask the snpreader for the number of individuals and the number of SNPs. Ask it for the iid of the first individual. Ask it for the sid of the last SNP. The snpreader reads only the small files needed to answer these questions."
   ]
  },
  {
   "cell_type": "code",
   "execution_count": 4,
   "metadata": {},
   "outputs": [
    {
     "name": "stdout",
     "output_type": "stream",
     "text": [
      "500 5000\n",
      "['cid0P0' 'cid0P0']\n",
      "snp124_m0_.23m1_.08\n"
     ]
    }
   ],
   "source": [
    "print(snpreader.iid_count,snpreader.sid_count)\n",
    "print(snpreader.iid[0])\n",
    "print(snpreader.sid[-1])"
   ]
  },
  {
   "cell_type": "markdown",
   "metadata": {},
   "source": [
    "Read all the genomic data into memory, creating a \"SnpData\" snpreader. Ask the snpdata for the number of individuals and the number of SNPs."
   ]
  },
  {
   "cell_type": "code",
   "execution_count": 5,
   "metadata": {},
   "outputs": [
    {
     "name": "stdout",
     "output_type": "stream",
     "text": [
      "SnpData(Bed('M:\\Temp\\carl/hashdown/de3b6b13abdfc441608d45fe030db4a0/doc/ipynb/all.bed',count_A1=True))\n",
      "500 5000\n"
     ]
    }
   ],
   "source": [
    "snpdata = snpreader.read()\n",
    "print(snpdata)\n",
    "print(snpdata.iid_count, snpdata.sid_count)"
   ]
  },
  {
   "cell_type": "markdown",
   "metadata": {},
   "source": [
    "A SnpData contains a \"val\" property that other SnpReaders to not. The \"val\" property is a in-memory NumPy array of the genomic data.\n",
    "\n",
    "Show the genomic data for the first 7 individuals and first 7 SNPs. Find the mean of all the genomic data."
   ]
  },
  {
   "cell_type": "code",
   "execution_count": 6,
   "metadata": {},
   "outputs": [
    {
     "name": "stdout",
     "output_type": "stream",
     "text": [
      "[[0. 0. 1. 2. 0. 1. 2.]\n",
      " [0. 0. 1. 1. 0. 0. 2.]\n",
      " [0. 0. 1. 2. 1. 0. 0.]\n",
      " [0. 0. 0. 2. 0. 0. 0.]\n",
      " [0. 0. 0. 0. 0. 0. 2.]\n",
      " [0. 0. 1. 0. 0. 0. 2.]\n",
      " [0. 0. 2. 1. 0. 1. 2.]]\n",
      "0.521412\n"
     ]
    }
   ],
   "source": [
    "import numpy as np\n",
    "print(snpdata.val[:7,:7])\n",
    "print(np.mean(snpdata.val))"
   ]
  },
  {
   "cell_type": "markdown",
   "metadata": {},
   "source": [
    "Here is everything in one line."
   ]
  },
  {
   "cell_type": "code",
   "execution_count": 7,
   "metadata": {},
   "outputs": [
    {
     "name": "stdout",
     "output_type": "stream",
     "text": [
      "0.521412\n"
     ]
    }
   ],
   "source": [
    "print(np.mean(Bed(all_bed_file,count_A1=True).read().val))"
   ]
  },
  {
   "cell_type": "markdown",
   "metadata": {},
   "source": [
    "## SnpData\n",
    "\n",
    "SnpData, the special in-memory SnpReader, is created by any SnpReader's read() method. We can also create a SnpData from scratch.\n",
    "\n",
    "Here we create snpdata1 for three individuals and two SNPs. We use NaN to mark a missing value and then ask for the mean value (ignoring the missing value)."
   ]
  },
  {
   "cell_type": "code",
   "execution_count": 8,
   "metadata": {},
   "outputs": [
    {
     "name": "stdout",
     "output_type": "stream",
     "text": [
      "0.8\n"
     ]
    }
   ],
   "source": [
    "from pysnptools.snpreader import SnpData\n",
    "snpdata1 = SnpData(iid=[['f1','c1'],['f1','c2'],['f2','c1']],\n",
    "                   sid=['snp1','snp2'],\n",
    "                   val=[[0,1],[2,.5],[.5,np.nan]])\n",
    "print(np.nanmean(snpdata1.val))"
   ]
  },
  {
   "cell_type": "markdown",
   "metadata": {},
   "source": [
    "*<font color='red'>see PowerPoint summary</font>*"
   ]
  },
  {
   "cell_type": "markdown",
   "metadata": {},
   "source": [
    "## Reading subsets of data, reading with re-ordering iids & sids (rows & cols), stacking"
   ]
  },
  {
   "cell_type": "markdown",
   "metadata": {},
   "source": [
    "https://docs.scipy.org/doc/numpy/user/basics.indexing.html\n",
    "\n",
    "Suppose, we only want the genomic data for the first 7 individuals and first 7 SNPs. PySnpTools makes it easy to read just the desired data from disk. Just use NumPy-like indexing *before* the read method."
   ]
  },
  {
   "cell_type": "code",
   "execution_count": 9,
   "metadata": {},
   "outputs": [
    {
     "name": "stdout",
     "output_type": "stream",
     "text": [
      "[[0. 0. 1. 2. 0. 1. 2.]\n",
      " [0. 0. 1. 1. 0. 0. 2.]\n",
      " [0. 0. 1. 2. 1. 0. 0.]\n",
      " [0. 0. 0. 2. 0. 0. 0.]\n",
      " [0. 0. 0. 0. 0. 0. 2.]\n",
      " [0. 0. 1. 0. 0. 0. 2.]\n",
      " [0. 0. 2. 1. 0. 1. 2.]]\n"
     ]
    }
   ],
   "source": [
    "snpreader = Bed(all_bed_file,count_A1=True)\n",
    "snpdata77 = snpreader[:7,:7].read()\n",
    "print(snpdata77.val)"
   ]
  },
  {
   "cell_type": "markdown",
   "metadata": {},
   "source": [
    "All NumPy-like fancy indexing is supported: slicing, Boolean, lists of integers, negative integers. PySnpTools allows indexing on both rows and columns at once. Adding indexing to a SnpReader, creates a new SnpReader.\n",
    "\n",
    "Here is an extreme example. It says, create a reader\n",
    "* from \"all.bed\" in Bed format\n",
    "* with the individuals in reverse order and for every 2nd SNP\n",
    "* for the first 5 such individuals and first 5 such SNPs\n",
    "* for the first and last individuals and the first, 2nd, and 5th SNP.\n",
    "* Then, read.\n",
    "      \n",
    "As before, only the final, desired data is read from the disk."
   ]
  },
  {
   "cell_type": "code",
   "execution_count": 10,
   "metadata": {},
   "outputs": [
    {
     "name": "stdout",
     "output_type": "stream",
     "text": [
      "[[0. 0. 1.]\n",
      " [0. 1. 1.]]\n"
     ]
    }
   ],
   "source": [
    "print(Bed(all_bed_file,count_A1=True)[::-1,::2][:5,:5][[0,-1],[True,True,False,False,True]].read().val)"
   ]
  },
  {
   "cell_type": "markdown",
   "metadata": {},
   "source": [
    "The ability to create new readers via indexing, simplifies common tasks such as reading ranges of SNP, filtering out some individuals or SNPs, and reordering individuals.\n",
    "\n",
    "We've seen how to manipulate SnpReaders with NumPy-like indexing. What if want instead manipulate SnpReaders by iid or sid, in the spirit of Pandas? In that case, use the sid_to_index() or sid_to_index() method.\n",
    "\n",
    "For example, here we create a SnpReader that reads only the three named SNPs."
   ]
  },
  {
   "cell_type": "code",
   "execution_count": 11,
   "metadata": {},
   "outputs": [
    {
     "name": "stdout",
     "output_type": "stream",
     "text": [
      "500 3\n"
     ]
    }
   ],
   "source": [
    "desired_sid_list = ['snp1750_m0_.02m1_.04',\n",
    "        'snp0_m0_.37m1_.24','snp122_m0_.26m1_.34']\n",
    "snpreader = Bed(all_bed_file,count_A1=True)\n",
    "desired_snpreader = \\\n",
    "       snpreader[:,snpreader.sid_to_index(desired_sid_list)]\n",
    "print(desired_snpreader.iid_count,desired_snpreader.sid_count)"
   ]
  },
  {
   "cell_type": "code",
   "execution_count": 12,
   "metadata": {},
   "outputs": [
    {
     "name": "stdout",
     "output_type": "stream",
     "text": [
      "[[0. 0. 1. ... 0. 1. 0.]\n",
      " [0. 0. 1. ... 0. 2. 0.]\n",
      " [0. 0. 1. ... 1. 1. 1.]\n",
      " ...\n",
      " [0. 0. 0. ... 1. 0. 0.]\n",
      " [0. 0. 0. ... 1. 0. 0.]\n",
      " [0. 0. 0. ... 0. 2. 0.]]\n"
     ]
    }
   ],
   "source": [
    "snp0data = snpreader.read()\n",
    "print(snp0data.val)"
   ]
  },
  {
   "cell_type": "markdown",
   "metadata": {},
   "source": [
    "### Print the data for iid #9 (in one line)"
   ]
  },
  {
   "cell_type": "code",
   "execution_count": 13,
   "metadata": {},
   "outputs": [
    {
     "name": "stdout",
     "output_type": "stream",
     "text": [
      "[[0. 0. 1. ... 0. 0. 1.]]\n"
     ]
    }
   ],
   "source": [
    "print(Bed(all_bed_file,count_A1=True)[5,:].read().val)"
   ]
  },
  {
   "cell_type": "markdown",
   "metadata": {},
   "source": [
    "### Read the data for the first 5 iids AND the first 5 sids:"
   ]
  },
  {
   "cell_type": "code",
   "execution_count": 14,
   "metadata": {},
   "outputs": [
    {
     "name": "stdout",
     "output_type": "stream",
     "text": [
      "[[2. 2. 1. 0. 2.]\n",
      " [2. 2. 1. 1. 2.]\n",
      " [2. 2. 1. 0. 1.]\n",
      " [2. 2. 2. 0. 2.]\n",
      " [2. 2. 2. 2. 2.]]\n"
     ]
    }
   ],
   "source": [
    "snp55data = Bed(all_bed_file,count_A1=False)[:5,:5].read()\n",
    "print(snp55data.val)"
   ]
  },
  {
   "cell_type": "markdown",
   "metadata": {},
   "source": [
    "### Stacking indexing is OK and efficient\n",
    "Recall NumPy slice notation: start:stop:step, so ::2 is every other"
   ]
  },
  {
   "cell_type": "code",
   "execution_count": 15,
   "metadata": {},
   "outputs": [
    {
     "name": "stdout",
     "output_type": "stream",
     "text": [
      "Bed('M:\\Temp\\carl/hashdown/de3b6b13abdfc441608d45fe030db4a0/doc/ipynb/all.bed',count_A1=False)[:,:250][:10,:][::2,::2]\n",
      "5 125\n",
      "1.4496\n"
     ]
    }
   ],
   "source": [
    "snpreaderA = Bed(all_bed_file,count_A1=False)\n",
    "snpreaderB = snpreaderA[:,:250]\n",
    "snpreaderC = snpreaderB[:10,:]\n",
    "snpreaderD = snpreaderC[::2,::2]\n",
    "print(snpreaderD)\n",
    "print(snpreaderD.iid_count, snpreaderD.sid_count)\n",
    "print(np.nanmean(snpreaderD.read().val))"
   ]
  },
  {
   "cell_type": "markdown",
   "metadata": {},
   "source": [
    "### Fancy indexing - list of indexes, slices, list of booleans, negatives(?)\n",
    "on iid or sid or both"
   ]
  },
  {
   "cell_type": "code",
   "execution_count": 16,
   "metadata": {},
   "outputs": [
    {
     "name": "stdout",
     "output_type": "stream",
     "text": [
      "[['cid4P0' 'cid4P0']\n",
      " ['cid3P0' 'cid3P0']\n",
      " ['cid2P0' 'cid2P0']\n",
      " ['cid1P0' 'cid1P0']\n",
      " ['cid0P0' 'cid0P0']]\n"
     ]
    }
   ],
   "source": [
    "# List of indexes (can use to reorder)\n",
    "snpdata43210 = Bed(all_bed_file,count_A1=False)[[4,3,2,1,0],:].read()\n",
    "print(snpdata43210.iid)"
   ]
  },
  {
   "cell_type": "code",
   "execution_count": 17,
   "metadata": {},
   "outputs": [
    {
     "name": "stdout",
     "output_type": "stream",
     "text": [
      "SnpData(Bed('M:\\Temp\\carl/hashdown/de3b6b13abdfc441608d45fe030db4a0/doc/ipynb/all.bed',count_A1=False)[[4,3,2,1,0],:])[1,:]\n",
      "[['cid3P0' 'cid3P0']]\n"
     ]
    }
   ],
   "source": [
    "# List of booleans to select\n",
    "snp43210B = snpdata43210[[False,True],:]\n",
    "print(snp43210B)\n",
    "print(snp43210B.iid)"
   ]
  },
  {
   "cell_type": "markdown",
   "metadata": {},
   "source": [
    "### Question: Does snp43210B have a val property?"
   ]
  },
  {
   "cell_type": "code",
   "execution_count": 18,
   "metadata": {},
   "outputs": [
    {
     "name": "stdout",
     "output_type": "stream",
     "text": [
      "False\n"
     ]
    }
   ],
   "source": [
    "print(hasattr(snp43210B,'val'))"
   ]
  },
  {
   "cell_type": "markdown",
   "metadata": {},
   "source": [
    "Answer: No. It's a subset of a SnpData, so it will read from a SnpData, but it is not a SnpData.\n",
    "Use .read() to get the values."
   ]
  },
  {
   "cell_type": "code",
   "execution_count": 19,
   "metadata": {},
   "outputs": [
    {
     "name": "stdout",
     "output_type": "stream",
     "text": [
      "[[2. 2. 2. ... 1. 2. 2.]]\n"
     ]
    }
   ],
   "source": [
    "snpdata4321B = snp43210B.read(view_ok=True) #view_ok means ok to share memory\n",
    "print(snpdata4321B.val)"
   ]
  },
  {
   "cell_type": "markdown",
   "metadata": {},
   "source": [
    "### Negatives\n",
    "* NumPy slices: start:stop:step\n",
    "  * 'start','stop': negative means counting from the end\n",
    "  * 'step': negative means count backwards\n",
    "* Indexes:\n",
    "  * -1 means last, -2 means second from the list [Not Yet Implemented]\n",
    "  * Lists of indexes can have negatives [Not Yet Implemented]"
   ]
  },
  {
   "cell_type": "code",
   "execution_count": 20,
   "metadata": {},
   "outputs": [
    {
     "name": "stdout",
     "output_type": "stream",
     "text": [
      "[['cid499P1' 'cid499P1']\n",
      " ['cid489P1' 'cid489P1']\n",
      " ['cid479P1' 'cid479P1']\n",
      " ['cid469P1' 'cid469P1']\n",
      " ['cid459P1' 'cid459P1']\n",
      " ['cid449P1' 'cid449P1']\n",
      " ['cid439P1' 'cid439P1']\n",
      " ['cid429P1' 'cid429P1']\n",
      " ['cid419P1' 'cid419P1']\n",
      " ['cid409P1' 'cid409P1']]\n"
     ]
    }
   ],
   "source": [
    "print(Bed(all_bed_file,count_A1=False)[::-10,:].iid[:10])"
   ]
  },
  {
   "cell_type": "markdown",
   "metadata": {},
   "source": [
    "*<font color='red'>see PowerPoint summary</font>*"
   ]
  },
  {
   "cell_type": "markdown",
   "metadata": {},
   "source": [
    "## More properties and attributes of SnpReaders\n",
    "### read() supports both NumPy memory layouts and 8-byte or 4-byte floats"
   ]
  },
  {
   "cell_type": "code",
   "execution_count": 21,
   "metadata": {},
   "outputs": [
    {
     "name": "stdout",
     "output_type": "stream",
     "text": [
      "  C_CONTIGUOUS : False\n",
      "  F_CONTIGUOUS : True\n",
      "  OWNDATA : True\n",
      "  WRITEABLE : True\n",
      "  ALIGNED : True\n",
      "  WRITEBACKIFCOPY : False\n",
      "  UPDATEIFCOPY : False\n",
      "\n"
     ]
    }
   ],
   "source": [
    "print(Bed(all_bed_file,count_A1=False).read().val.flags)"
   ]
  },
  {
   "cell_type": "code",
   "execution_count": 22,
   "metadata": {},
   "outputs": [
    {
     "name": "stdout",
     "output_type": "stream",
     "text": [
      "float32\n"
     ]
    }
   ],
   "source": [
    "snpdata32c = Bed(all_bed_file,count_A1=False).read(order='C',dtype=np.float32)\n",
    "print(snpdata32c.val.dtype)"
   ]
  },
  {
   "cell_type": "code",
   "execution_count": 23,
   "metadata": {},
   "outputs": [
    {
     "name": "stdout",
     "output_type": "stream",
     "text": [
      "  C_CONTIGUOUS : True\n",
      "  F_CONTIGUOUS : False\n",
      "  OWNDATA : True\n",
      "  WRITEABLE : True\n",
      "  ALIGNED : True\n",
      "  WRITEBACKIFCOPY : False\n",
      "  UPDATEIFCOPY : False\n",
      "\n"
     ]
    }
   ],
   "source": [
    "print(snpdata32c.val.flags)"
   ]
  },
  {
   "cell_type": "markdown",
   "metadata": {},
   "source": [
    "### Every reader includes an array of SNP properties called \".pos\""
   ]
  },
  {
   "cell_type": "code",
   "execution_count": 24,
   "metadata": {},
   "outputs": [
    {
     "name": "stdout",
     "output_type": "stream",
     "text": [
      "[[1.000e+00       nan       nan]\n",
      " [1.000e+00 1.000e+00 1.000e+00]\n",
      " [1.000e+00 2.000e+00 2.000e+00]\n",
      " ...\n",
      " [5.000e+00 4.997e+03 4.997e+03]\n",
      " [5.000e+00 4.998e+03 4.998e+03]\n",
      " [5.000e+00 4.999e+03 4.999e+03]]\n"
     ]
    }
   ],
   "source": [
    "print(Bed(all_bed_file,count_A1=False).pos)"
   ]
  },
  {
   "cell_type": "markdown",
   "metadata": {},
   "source": [
    "* [chromosome, genetic distance, basepair distance]\n",
    "* Accessable without a SNP data read."
   ]
  },
  {
   "cell_type": "markdown",
   "metadata": {},
   "source": [
    "### So, using Python-style fancy indexing, how to we read all SNPs at Chrom 5?"
   ]
  },
  {
   "cell_type": "code",
   "execution_count": 25,
   "metadata": {},
   "outputs": [
    {
     "name": "stdout",
     "output_type": "stream",
     "text": [
      "[1. 1. 1. ... 5. 5. 5.]\n"
     ]
    }
   ],
   "source": [
    "snpreader = Bed(all_bed_file,count_A1=False)\n",
    "print(snpreader.pos[:,0])"
   ]
  },
  {
   "cell_type": "code",
   "execution_count": 26,
   "metadata": {},
   "outputs": [
    {
     "name": "stdout",
     "output_type": "stream",
     "text": [
      "[False False False ...  True  True  True]\n"
     ]
    }
   ],
   "source": [
    "chr5_bools = (snpreader.pos[:,0] == 5)\n",
    "print(chr5_bools)"
   ]
  },
  {
   "cell_type": "code",
   "execution_count": 27,
   "metadata": {},
   "outputs": [
    {
     "name": "stdout",
     "output_type": "stream",
     "text": [
      "Bed('M:\\Temp\\carl/hashdown/de3b6b13abdfc441608d45fe030db4a0/doc/ipynb/all.bed',count_A1=False)[:,[4000,4001,4002,4003,4004,4005,4006,4007,4008,4009,...]]\n"
     ]
    }
   ],
   "source": [
    "chr5reader = snpreader[:,chr5_bools]\n",
    "print(chr5reader)"
   ]
  },
  {
   "cell_type": "code",
   "execution_count": 28,
   "metadata": {},
   "outputs": [
    {
     "name": "stdout",
     "output_type": "stream",
     "text": [
      "[[   5. 4000. 4000.]\n",
      " [   5. 4001. 4001.]\n",
      " [   5. 4002. 4002.]\n",
      " ...\n",
      " [   5. 4997. 4997.]\n",
      " [   5. 4998. 4998.]\n",
      " [   5. 4999. 4999.]]\n"
     ]
    }
   ],
   "source": [
    "chr5data = chr5reader.read()\n",
    "print(chr5data.pos)"
   ]
  },
  {
   "cell_type": "markdown",
   "metadata": {
    "collapsed": true
   },
   "source": [
    "In one line"
   ]
  },
  {
   "cell_type": "code",
   "execution_count": 29,
   "metadata": {},
   "outputs": [
    {
     "name": "stdout",
     "output_type": "stream",
     "text": [
      "[[2. 2. 1. ... 2. 1. 2.]\n",
      " [2. 2. 2. ... 2. 0. 2.]\n",
      " [2. 2. 2. ... 1. 1. 1.]\n",
      " ...\n",
      " [2. 2. 1. ... 1. 2. 2.]\n",
      " [2. 2. 2. ... 1. 2. 2.]\n",
      " [2. 2. 1. ... 2. 0. 2.]]\n"
     ]
    }
   ],
   "source": [
    "chr5data = Bed(all_bed_file,count_A1=False)[:,snpreader.pos[:,0] == 5].read()\n",
    "print(chr5data.val)"
   ]
  },
  {
   "cell_type": "markdown",
   "metadata": {},
   "source": [
    "### You can turn iid or sid names into indexes"
   ]
  },
  {
   "cell_type": "code",
   "execution_count": 30,
   "metadata": {},
   "outputs": [
    {
     "name": "stdout",
     "output_type": "stream",
     "text": [
      "[499 489 479]\n"
     ]
    }
   ],
   "source": [
    "snpreader = Bed(all_bed_file,count_A1=False)\n",
    "iid0 =[['cid499P1','cid499P1'],\n",
    "      ['cid489P1','cid489P1'],\n",
    "      ['cid479P1','cid479P1']]\n",
    "indexes0 = snpreader.iid_to_index(iid0)\n",
    "print(indexes0)"
   ]
  },
  {
   "cell_type": "code",
   "execution_count": 31,
   "metadata": {},
   "outputs": [
    {
     "name": "stdout",
     "output_type": "stream",
     "text": [
      "[['cid499P1' 'cid499P1']\n",
      " ['cid489P1' 'cid489P1']\n",
      " ['cid479P1' 'cid479P1']]\n"
     ]
    }
   ],
   "source": [
    "snpreader0 = snpreader[indexes0,:]\n",
    "print(snpreader0.iid)"
   ]
  },
  {
   "cell_type": "code",
   "execution_count": 32,
   "metadata": {},
   "outputs": [
    {
     "name": "stdout",
     "output_type": "stream",
     "text": [
      "[['cid499P1' 'cid499P1']\n",
      " ['cid489P1' 'cid489P1']\n",
      " ['cid479P1' 'cid479P1']]\n"
     ]
    }
   ],
   "source": [
    "# more condensed\n",
    "snpreader0 = snpreader[snpreader.iid_to_index(iid0),:]\n",
    "print(snpreader0.iid)"
   ]
  },
  {
   "cell_type": "markdown",
   "metadata": {},
   "source": [
    "### Can use both .pos and iid_to_index (sid_to_index) at once"
   ]
  },
  {
   "cell_type": "code",
   "execution_count": 33,
   "metadata": {},
   "outputs": [
    {
     "name": "stdout",
     "output_type": "stream",
     "text": [
      "1.493\n"
     ]
    }
   ],
   "source": [
    "snpdata0chr5 = snpreader[snpreader.iid_to_index(iid0),snpreader.pos[:,0] == 5].read()\n",
    "print(np.mean(snpdata0chr5.val))"
   ]
  },
  {
   "cell_type": "markdown",
   "metadata": {},
   "source": [
    "*<font color='red'>see PowerPoint summary</font>*"
   ]
  },
  {
   "cell_type": "markdown",
   "metadata": {},
   "source": [
    "# Other SnpReaders and how to write"
   ]
  },
  {
   "cell_type": "markdown",
   "metadata": {},
   "source": [
    "#### Read from the PLINK phenotype file (text) instead of a Bed file\n",
    "Looks like:\n",
    "```\n",
    "cid0P0 cid0P0 0.4853395139922632\n",
    "cid1P0 cid1P0 -0.2076984565752155\n",
    "cid2P0 cid2P0 1.4909084058931985\n",
    "cid3P0 cid3P0 -1.2128996652683697\n",
    "cid4P0 cid4P0 0.4293203431508744\n",
    "...\n",
    "```"
   ]
  },
  {
   "cell_type": "code",
   "execution_count": 34,
   "metadata": {},
   "outputs": [
    {
     "name": "stdout",
     "output_type": "stream",
     "text": [
      "Pheno('M:\\Temp\\carl/hashdown/de3b6b13abdfc441608d45fe030db4a0/doc/ipynb/pheno_10_causals.txt')\n",
      "500 1\n"
     ]
    }
   ],
   "source": [
    "from pysnptools.snpreader import Pheno\n",
    "pheno_fn = example_file(\"doc/ipynb/pheno_10_causals.txt\")\n",
    "phenoreader = Pheno(pheno_fn)\n",
    "print(phenoreader)\n",
    "print(phenoreader.iid_count, phenoreader.sid_count)"
   ]
  },
  {
   "cell_type": "code",
   "execution_count": 35,
   "metadata": {},
   "outputs": [
    {
     "name": "stdout",
     "output_type": "stream",
     "text": [
      "['pheno0']\n",
      "[[nan nan nan]]\n"
     ]
    }
   ],
   "source": [
    "print(phenoreader.sid)\n",
    "print(phenoreader.pos)"
   ]
  },
  {
   "cell_type": "code",
   "execution_count": 36,
   "metadata": {},
   "outputs": [
    {
     "name": "stdout",
     "output_type": "stream",
     "text": [
      "[[ 0.48533951]\n",
      " [-0.20769846]\n",
      " [ 1.49090841]\n",
      " [-1.21289967]\n",
      " [ 0.42932034]\n",
      " [ 0.71094924]\n",
      " [-1.16923538]\n",
      " [ 0.11678875]\n",
      " [ 0.82461754]\n",
      " [ 0.94084858]]\n"
     ]
    }
   ],
   "source": [
    "phenodata = phenoreader.read()\n",
    "print(phenodata.val[:10,:])"
   ]
  },
  {
   "cell_type": "markdown",
   "metadata": {},
   "source": [
    "### Write 1st 10 iids and sids of Bed data into Pheno format"
   ]
  },
  {
   "cell_type": "code",
   "execution_count": 37,
   "metadata": {},
   "outputs": [
    {
     "name": "stdout",
     "output_type": "stream",
     "text": [
      "True\n"
     ]
    }
   ],
   "source": [
    "import os\n",
    "snpdata1010 = Bed(all_bed_file,count_A1=False)[:10,:10].read()\n",
    "Pheno.write(\"deleteme1010.txt\",snpdata1010)\n",
    "print(os.path.exists(\"deleteme1010.txt\"))"
   ]
  },
  {
   "cell_type": "markdown",
   "metadata": {},
   "source": [
    "Write the snpdata to Bed format"
   ]
  },
  {
   "cell_type": "code",
   "execution_count": 38,
   "metadata": {},
   "outputs": [
    {
     "name": "stdout",
     "output_type": "stream",
     "text": [
      "True\n"
     ]
    }
   ],
   "source": [
    "Bed.write(\"deleteme1010.bed\",snpdata1010)\n",
    "print(os.path.exists(\"deleteme1010.bim\"))"
   ]
  },
  {
   "cell_type": "markdown",
   "metadata": {},
   "source": [
    "### Create a snpdata on the fly and write to Bed"
   ]
  },
  {
   "cell_type": "code",
   "execution_count": 39,
   "metadata": {},
   "outputs": [
    {
     "name": "stdout",
     "output_type": "stream",
     "text": [
      "True\n"
     ]
    }
   ],
   "source": [
    "snpdata1 = SnpData(iid=[['f1','c1'],['f1','c2'],['f2','c1']],\n",
    "                   sid=['snp1','snp2'],\n",
    "                   val=[[0,1],[2,1],[1,np.nan]])\n",
    "Bed.write(\"deleteme1.bed\",snpdata1)\n",
    "print(os.path.exists(\"deleteme1.fam\"))"
   ]
  },
  {
   "cell_type": "markdown",
   "metadata": {},
   "source": [
    "### The SnpNpz and SnpHdf5 SnpReaders\n",
    "Pheno is slow because it is text. Bed format can only hold 0,1,2,missing.\n",
    "Use SnpNpz for fastest read/write times, smallest file size."
   ]
  },
  {
   "cell_type": "code",
   "execution_count": 40,
   "metadata": {},
   "outputs": [
    {
     "name": "stdout",
     "output_type": "stream",
     "text": [
      "True\n"
     ]
    }
   ],
   "source": [
    "from pysnptools.snpreader import SnpNpz\n",
    "SnpNpz.write(\"deleteme1010.snp.npz\", snpdata1010)\n",
    "print(os.path.exists(\"deleteme1010.snp.npz\"))"
   ]
  },
  {
   "cell_type": "markdown",
   "metadata": {},
   "source": [
    "Use SnpHdf5 for low-memory random-access reads, good speed and size, and compatiblity outside Python"
   ]
  },
  {
   "cell_type": "code",
   "execution_count": 41,
   "metadata": {},
   "outputs": [
    {
     "name": "stdout",
     "output_type": "stream",
     "text": [
      "True\n"
     ]
    }
   ],
   "source": [
    "from pysnptools.snpreader import SnpHdf5\n",
    "SnpHdf5.write(\"deleteme1010.snp.hdf5\", snpdata1010)\n",
    "print(os.path.exists(\"deleteme1010.snp.hdf5\"))"
   ]
  },
  {
   "cell_type": "markdown",
   "metadata": {},
   "source": [
    "*<font color='red'>see PowerPoint summary</font>*"
   ]
  },
  {
   "cell_type": "markdown",
   "metadata": {},
   "source": [
    "## Intersecting iids"
   ]
  },
  {
   "cell_type": "markdown",
   "metadata": {},
   "source": [
    "### What if we have two data sources with slightly different iids in different orders?"
   ]
  },
  {
   "cell_type": "code",
   "execution_count": 42,
   "metadata": {},
   "outputs": [
    {
     "name": "stdout",
     "output_type": "stream",
     "text": [
      "500 250\n",
      "[['cid0P0' 'cid0P0']\n",
      " ['cid1P0' 'cid1P0']\n",
      " ['cid2P0' 'cid2P0']\n",
      " ['cid3P0' 'cid3P0']\n",
      " ['cid4P0' 'cid4P0']]\n",
      "[['cid499P1' 'cid499P1']\n",
      " ['cid497P1' 'cid497P1']\n",
      " ['cid495P1' 'cid495P1']\n",
      " ['cid493P1' 'cid493P1']\n",
      " ['cid491P1' 'cid491P1']]\n"
     ]
    }
   ],
   "source": [
    "snpreader = Bed(all_bed_file,count_A1=False)\n",
    "phenoreader = Pheno(pheno_fn)[::-2,:] #half the iids, and in reverse order\n",
    "print(snpreader.iid_count, phenoreader.iid_count)\n",
    "print(snpreader.iid[:5])\n",
    "print(phenoreader.iid[:5])"
   ]
  },
  {
   "cell_type": "markdown",
   "metadata": {},
   "source": [
    "### Create an intersecting and reordering reader"
   ]
  },
  {
   "cell_type": "code",
   "execution_count": 43,
   "metadata": {},
   "outputs": [
    {
     "name": "stdout",
     "output_type": "stream",
     "text": [
      "True\n"
     ]
    }
   ],
   "source": [
    "import pysnptools.util as pstutil\n",
    "snpreader_i,phenoreader_i  = pstutil.intersect_apply([snpreader,phenoreader])\n",
    "print(np.array_equal(snpreader_i.iid,phenoreader_i.iid))"
   ]
  },
  {
   "cell_type": "code",
   "execution_count": 44,
   "metadata": {},
   "outputs": [
    {
     "name": "stdout",
     "output_type": "stream",
     "text": [
      "True\n",
      "[[2. 2. 1. ... 2. 0. 2.]\n",
      " [2. 2. 2. ... 1. 2. 2.]\n",
      " [2. 2. 1. ... 2. 2. 1.]\n",
      " ...\n",
      " [2. 2. 2. ... 2. 1. 2.]\n",
      " [2. 2. 1. ... 1. 0. 2.]\n",
      " [2. 2. 1. ... 1. 2. 2.]]\n",
      "[[-0.20769846]\n",
      " [-1.21289967]\n",
      " [ 0.71094924]\n",
      " [ 0.11678875]\n",
      " [ 0.94084858]\n",
      " [-0.46382524]\n",
      " [ 1.34283705]\n",
      " [ 0.60147238]\n",
      " [ 1.48311441]\n",
      " [ 1.84012532]]\n"
     ]
    }
   ],
   "source": [
    "snpdata_i = snpreader_i.read()\n",
    "phenodata_i = phenoreader_i.read()\n",
    "\n",
    "print(np.array_equal(snpdata_i.iid,phenodata_i.iid))\n",
    "print(snpdata_i.val[:10,:])\n",
    "print(phenodata_i.val[:10,:])"
   ]
  },
  {
   "cell_type": "markdown",
   "metadata": {},
   "source": [
    "### Example of use with NumPy's built-in linear regression"
   ]
  },
  {
   "cell_type": "code",
   "execution_count": 45,
   "metadata": {},
   "outputs": [
    {
     "name": "stderr",
     "output_type": "stream",
     "text": [
      "C:\\ProgramData\\Anaconda3\\lib\\site-packages\\ipykernel_launcher.py:1: FutureWarning: `rcond` parameter will change to the default of machine precision times ``max(M, N)`` where M and N are the input matrix dimensions.\n",
      "To use the future default and silence this warning we advise to pass `rcond=None`, to keep using the old, explicitly pass `rcond=-1`.\n",
      "  \"\"\"Entry point for launching an IPython kernel.\n"
     ]
    },
    {
     "data": {
      "image/png": "[encoded data removed]",
      "text/plain": [
       "<Figure size 720x576 with 1 Axes>"
      ]
     },
     "metadata": {
      "needs_background": "light"
     },
     "output_type": "display_data"
    }
   ],
   "source": [
    "weights = np.linalg.lstsq(snpdata_i.val, phenodata_i.val)[0] #usually would add a 1's column\n",
    "predicted = snpdata_i.val.dot(weights)\n",
    "\n",
    "import matplotlib.pyplot as plt\n",
    "pylab.rcParams['figure.figsize'] = (10.0, 8.0)\n",
    "plt.plot(phenodata_i.val, predicted, '.', markersize=10)\n",
    "plt.show() #Easy to 'predict' seen 250 cases with 5000 variables."
   ]
  },
  {
   "cell_type": "code",
   "execution_count": 46,
   "metadata": {},
   "outputs": [
    {
     "data": {
      "image/png": "[encoded data removed]",
      "text/plain": [
       "<Figure size 720x576 with 1 Axes>"
      ]
     },
     "metadata": {
      "needs_background": "light"
     },
     "output_type": "display_data"
    }
   ],
   "source": [
    "# How does it predict unseen cases?\n",
    "phenoreader_unseen = Pheno(pheno_fn)[-2::-2,:]\n",
    "snpreader_u,phenoreader_u  = pstutil.intersect_apply([snpreader,phenoreader_unseen])\n",
    "\n",
    "snpdata_u = snpreader_u.read()\n",
    "phenodata_u = phenoreader_u.read()\n",
    "\n",
    "predicted_u = snpdata_u.val.dot(weights)\n",
    "\n",
    "plt.plot(phenodata_u.val, predicted_u, '.', markersize=10)\n",
    "plt.show() #Hard to predict unseen 250 cases with 5000 variables."
   ]
  },
  {
   "cell_type": "markdown",
   "metadata": {},
   "source": [
    "*<font color='red'>see PowerPoint summary</font>*"
   ]
  },
  {
   "cell_type": "markdown",
   "metadata": {},
   "source": [
    "# Standardization, Kernels"
   ]
  },
  {
   "cell_type": "markdown",
   "metadata": {},
   "source": [
    "###  To Unit standardize: read data, \".standardize()\""
   ]
  },
  {
   "cell_type": "code",
   "execution_count": 47,
   "metadata": {},
   "outputs": [
    {
     "name": "stdout",
     "output_type": "stream",
     "text": [
      "[[ 0.30156099  0.2481353  -0.50673344 -1.68318496  0.84178108]\n",
      " [ 0.30156099  0.2481353  -0.50673344 -0.29670641  0.84178108]\n",
      " [ 0.30156099  0.2481353  -0.50673344 -1.68318496 -0.77702869]\n",
      " ...\n",
      " [ 0.30156099  0.2481353   1.01043255  1.08977214  0.84178108]\n",
      " [ 0.30156099  0.2481353   1.01043255 -0.29670641  0.84178108]\n",
      " [ 0.30156099  0.2481353   1.01043255  1.08977214 -0.77702869]]\n"
     ]
    }
   ],
   "source": [
    "snpreader = Bed(all_bed_file,count_A1=False)\n",
    "snpdata = snpreader.read()\n",
    "snpdata = snpdata.standardize() #In place AND returns self\n",
    "print(snpdata.val[:,:5])"
   ]
  },
  {
   "cell_type": "markdown",
   "metadata": {},
   "source": [
    "### Sets means per sid to 0 and stdev to 1 and fills nan with 0.\n",
    "In one line:"
   ]
  },
  {
   "cell_type": "code",
   "execution_count": 48,
   "metadata": {},
   "outputs": [
    {
     "name": "stdout",
     "output_type": "stream",
     "text": [
      "[[ 0.30156099  0.2481353  -0.50673344 -1.68318496  0.84178108]\n",
      " [ 0.30156099  0.2481353  -0.50673344 -0.29670641  0.84178108]\n",
      " [ 0.30156099  0.2481353  -0.50673344 -1.68318496 -0.77702869]\n",
      " ...\n",
      " [ 0.30156099  0.2481353   1.01043255  1.08977214  0.84178108]\n",
      " [ 0.30156099  0.2481353   1.01043255 -0.29670641  0.84178108]\n",
      " [ 0.30156099  0.2481353   1.01043255  1.08977214 -0.77702869]]\n"
     ]
    }
   ],
   "source": [
    "snpdata = Bed(all_bed_file,count_A1=False).read().standardize()\n",
    "print(snpdata.val[:,:5])"
   ]
  },
  {
   "cell_type": "markdown",
   "metadata": {},
   "source": [
    "### Beta standardization"
   ]
  },
  {
   "cell_type": "code",
   "execution_count": 49,
   "metadata": {},
   "outputs": [
    {
     "name": "stdout",
     "output_type": "stream",
     "text": [
      "[[ 7.40112054e-01  7.15532756e-01 -5.02003205e-04 -1.89970988e-04]\n",
      " [ 7.40112054e-01  7.15532756e-01 -5.02003205e-04 -3.34874723e-05]\n",
      " [ 7.40112054e-01  7.15532756e-01 -5.02003205e-04 -1.89970988e-04]\n",
      " ...\n",
      " [ 7.40112054e-01  7.15532756e-01  1.00100040e-03  1.22996043e-04]\n",
      " [ 7.40112054e-01  7.15532756e-01  1.00100040e-03 -3.34874723e-05]\n",
      " [ 7.40112054e-01  7.15532756e-01  1.00100040e-03  1.22996043e-04]]\n"
     ]
    }
   ],
   "source": [
    "from pysnptools.standardizer import Beta\n",
    "snpdataB = Bed(all_bed_file,count_A1=False).read().standardize(Beta(1,25))\n",
    "print(snpdataB.val[:,:4])"
   ]
  },
  {
   "cell_type": "markdown",
   "metadata": {},
   "source": [
    "### To create an kernel (the relateness of each iid pair as the dot product of their standardized SNP values)"
   ]
  },
  {
   "cell_type": "code",
   "execution_count": 50,
   "metadata": {},
   "outputs": [
    {
     "name": "stdout",
     "output_type": "stream",
     "text": [
      "[[5081.6121922   253.32922313  165.9842232   360.75883739]\n",
      " [ 253.32922313 5061.87849635  384.04149913  466.05844787]\n",
      " [ 165.9842232   384.04149913 4922.10583668  171.75732175]\n",
      " ...\n",
      " [-130.76998392 -334.33599388 -257.64796899 -255.81034978]\n",
      " [-298.66392286 -127.02308706 -305.3966     -141.91272418]\n",
      " [-287.66887036 -291.41483161 -289.73600005 -364.74382324]]\n"
     ]
    }
   ],
   "source": [
    "from pysnptools.standardizer import Unit\n",
    "kerneldata = Bed(all_bed_file,count_A1=False).read_kernel(standardizer=Unit())\n",
    "print(kerneldata.val[:,:4])"
   ]
  },
  {
   "cell_type": "code",
   "execution_count": 51,
   "metadata": {},
   "outputs": [
    {
     "name": "stdout",
     "output_type": "stream",
     "text": [
      "[[5081.6121922   253.32922313  165.9842232   360.75883739]\n",
      " [ 253.32922313 5061.87849635  384.04149913  466.05844787]\n",
      " [ 165.9842232   384.04149913 4922.10583668  171.75732175]\n",
      " ...\n",
      " [-130.76998392 -334.33599388 -257.64796899 -255.81034978]\n",
      " [-298.66392286 -127.02308706 -305.3966     -141.91272418]\n",
      " [-287.66887036 -291.41483161 -289.73600005 -364.74382324]]\n"
     ]
    }
   ],
   "source": [
    "kerneldata = Bed(all_bed_file,count_A1=False).read_kernel(standardizer=Unit(),block_size=500)\n",
    "print(kerneldata.val[:,:4])"
   ]
  },
  {
   "cell_type": "markdown",
   "metadata": {},
   "source": [
    "*<font color='red'>see PowerPoint summary</font>*"
   ]
  },
  {
   "cell_type": "markdown",
   "metadata": {},
   "source": [
    "## PstReader\n",
    "### Every SnpReader is a PstReader"
   ]
  },
  {
   "cell_type": "code",
   "execution_count": 52,
   "metadata": {},
   "outputs": [
    {
     "name": "stdout",
     "output_type": "stream",
     "text": [
      "500 5000\n"
     ]
    }
   ],
   "source": [
    "from pysnptools.snpreader import Bed\n",
    "pstreader = Bed(all_bed_file,count_A1=False)\n",
    "print(pstreader.row_count, pstreader.col_count)"
   ]
  },
  {
   "cell_type": "code",
   "execution_count": 53,
   "metadata": {},
   "outputs": [
    {
     "name": "stdout",
     "output_type": "stream",
     "text": [
      "[[1.000e+00       nan       nan]\n",
      " [1.000e+00 1.000e+00 1.000e+00]\n",
      " [1.000e+00 2.000e+00 2.000e+00]\n",
      " ...\n",
      " [5.000e+00 4.997e+03 4.997e+03]\n",
      " [5.000e+00 4.998e+03 4.998e+03]\n",
      " [5.000e+00 4.999e+03 4.999e+03]]\n"
     ]
    }
   ],
   "source": [
    "print(pstreader.col_property)"
   ]
  },
  {
   "cell_type": "markdown",
   "metadata": {},
   "source": [
    "### Can also create PstData from scratch, on the fly"
   ]
  },
  {
   "cell_type": "code",
   "execution_count": 54,
   "metadata": {},
   "outputs": [
    {
     "name": "stdout",
     "output_type": "stream",
     "text": [
      "PstData()[[0,1],[1,0]]\n"
     ]
    }
   ],
   "source": [
    "from pysnptools.pstreader import PstData\n",
    "data1 = PstData(row=['a','b','c'],\n",
    "                col=['y','z'],\n",
    "                val=[[1,2],[3,4],[np.nan,6]],\n",
    "                row_property=['A','B','C'])\n",
    "reader2 = data1[data1.row < 'c', data1.col_to_index(['z','y'])]\n",
    "print(reader2)"
   ]
  },
  {
   "cell_type": "code",
   "execution_count": 55,
   "metadata": {},
   "outputs": [
    {
     "name": "stdout",
     "output_type": "stream",
     "text": [
      "[[2. 1.]\n",
      " [4. 3.]]\n"
     ]
    }
   ],
   "source": [
    "print(reader2.read().val)"
   ]
  },
  {
   "cell_type": "code",
   "execution_count": 56,
   "metadata": {},
   "outputs": [
    {
     "name": "stdout",
     "output_type": "stream",
     "text": [
      "['A' 'B']\n"
     ]
    }
   ],
   "source": [
    "print(reader2.row_property)"
   ]
  },
  {
   "cell_type": "code",
   "execution_count": 57,
   "metadata": {},
   "outputs": [
    {
     "name": "stdout",
     "output_type": "stream",
     "text": [
      "(2, 0) <U1\n"
     ]
    }
   ],
   "source": [
    "print(reader2.col_property.shape, reader2.col_property.dtype)"
   ]
  },
  {
   "cell_type": "markdown",
   "metadata": {},
   "source": [
    "### Two new PstReaders: PstNpz and PstHdf5"
   ]
  },
  {
   "cell_type": "code",
   "execution_count": 58,
   "metadata": {},
   "outputs": [
    {
     "name": "stdout",
     "output_type": "stream",
     "text": [
      "PstData(PstNpz('delme.pst.npz')) PstData(PstHdf5('delme.pst.hdf5'))\n"
     ]
    }
   ],
   "source": [
    "from pysnptools.pstreader import PstNpz, PstHdf5\n",
    "fnnpz = \"delme.pst.npz\"\n",
    "PstNpz.write(fnnpz,data1)\n",
    "data2 = PstNpz(fnnpz).read()\n",
    "\n",
    "fnhdf5 = \"delme.pst.hdf5\"\n",
    "PstHdf5.write(fnhdf5,data2)\n",
    "data3 = PstHdf5(fnhdf5).read()\n",
    "\n",
    "print(data2, data3)"
   ]
  },
  {
   "cell_type": "code",
   "execution_count": 59,
   "metadata": {},
   "outputs": [
    {
     "name": "stdout",
     "output_type": "stream",
     "text": [
      "[[ 1.  2.]\n",
      " [ 3.  4.]\n",
      " [nan  6.]]\n",
      "[[ 1.  2.]\n",
      " [ 3.  4.]\n",
      " [nan  6.]]\n"
     ]
    }
   ],
   "source": [
    "print(data2.val)\n",
    "print(data3.val)"
   ]
  },
  {
   "cell_type": "markdown",
   "metadata": {},
   "source": [
    "*<font color='red'>see PowerPoint summary</font>*"
   ]
  },
  {
   "cell_type": "markdown",
   "metadata": {},
   "source": [
    "## IntRangeSet\n",
    "### Union of two sets\n",
    "<img src=\"example1.png\">"
   ]
  },
  {
   "cell_type": "code",
   "execution_count": 60,
   "metadata": {},
   "outputs": [
    {
     "name": "stdout",
     "output_type": "stream",
     "text": [
      "IntRangeSet('-20,100:1000')\n",
      "True\n",
      "False\n"
     ]
    }
   ],
   "source": [
    "from pysnptools.util import IntRangeSet\n",
    "a = IntRangeSet(\"100:500,501:1000\") # a is the set of integers from 100 to 500 (exclusive) and 501 to 1000 (exclusive)\n",
    "b = IntRangeSet(\"-20,400:600\")      # b is the set of integers -20 and the range 400 to 600 (exclusive)\n",
    "c = a | b                           # c is the union of a and b, namely -20 and 100 to 1000 (exclusive)\n",
    "print(c)\n",
    "print(200 in c)\n",
    "print(-19 in c)"
   ]
  },
  {
   "cell_type": "markdown",
   "metadata": {},
   "source": [
    "### Set difference\n",
    "Suppose we want to find the intron regions of a gene but we are given only the transcription region and the exon regions.\n",
    "<img src=\"example2.png\">"
   ]
  },
  {
   "cell_type": "code",
   "execution_count": 61,
   "metadata": {},
   "outputs": [
    {
     "name": "stdout",
     "output_type": "stream",
     "text": [
      "IntRangeSet('29370:37381')\n"
     ]
    }
   ],
   "source": [
    "from pysnptools.util import IntRangeSet\n",
    "line = \"chr15   29370   37380   29370,32358,36715   30817,32561,37380\"\n",
    "chr,trans_start,trans_last,exon_starts,exon_lasts = line.split() # split the line on white space\n",
    "trans_start = int(trans_start)\n",
    "trans_stop = int(trans_last) + 1 # add one to convert the inclusive \"last\" value into a Pythonesque exclusive \"stop\" value\n",
    "int_range_set = IntRangeSet((trans_start,trans_stop)) # creates a IntRangeSet from 29370 (inclusive) to 37381 (exclusive)\n",
    "print(int_range_set) # print at any time to see the current value"
   ]
  },
  {
   "cell_type": "markdown",
   "metadata": {},
   "source": [
    "Parse the exon start and last lists from strings to lists of integers (converting ‘last’ to ‘stop’)"
   ]
  },
  {
   "cell_type": "code",
   "execution_count": 62,
   "metadata": {},
   "outputs": [],
   "source": [
    "exon_starts = [int(start) for start in exon_starts.strip(\",\").split(',')]\n",
    "exon_stops = [int(last)+1 for last in exon_lasts.strip(\",\").split(',')]\n",
    "assert len(exon_starts) == len(exon_stops)"
   ]
  },
  {
   "cell_type": "markdown",
   "metadata": {},
   "source": [
    "Zip together the two lists to create an iterable of exon_start,exon_stop tuples. Then ‘set subtract’ all these ranges from int_range_set."
   ]
  },
  {
   "cell_type": "code",
   "execution_count": 63,
   "metadata": {},
   "outputs": [
    {
     "name": "stdout",
     "output_type": "stream",
     "text": [
      "IntRangeSet('30818:32358,32562:36715')\n"
     ]
    }
   ],
   "source": [
    "int_range_set -= zip(exon_starts,exon_stops)\n",
    "print(int_range_set) # See what it looks like"
   ]
  },
  {
   "cell_type": "markdown",
   "metadata": {},
   "source": [
    "Create the desired output by iterating through each contiguous range of integers."
   ]
  },
  {
   "cell_type": "code",
   "execution_count": 64,
   "metadata": {},
   "outputs": [
    {
     "name": "stdout",
     "output_type": "stream",
     "text": [
      "chr15   30818     32357\n",
      "chr15   32562     36714\n"
     ]
    }
   ],
   "source": [
    "for start, stop in int_range_set.ranges():\n",
    "    print(\"{0}   {1}     {2}\".format(chr, start, stop-1))"
   ]
  },
  {
   "cell_type": "markdown",
   "metadata": {},
   "source": [
    "*<font color='red'>see PowerPoint summary</font>*"
   ]
  },
  {
   "cell_type": "markdown",
   "metadata": {},
   "source": [
    "## FastLMM"
   ]
  },
  {
   "cell_type": "code",
   "execution_count": 65,
   "metadata": {},
   "outputs": [
    {
     "data": {
      "text/html": [
       "<div>\n",
       "<style scoped>\n",
       "    .dataframe tbody tr th:only-of-type {\n",
       "        vertical-align: middle;\n",
       "    }\n",
       "\n",
       "    .dataframe tbody tr th {\n",
       "        vertical-align: top;\n",
       "    }\n",
       "\n",
       "    .dataframe thead th {\n",
       "        text-align: right;\n",
       "    }\n",
       "</style>\n",
       "<table border=\"1\" class=\"dataframe\">\n",
       "  <thead>\n",
       "    <tr style=\"text-align: right;\">\n",
       "      <th></th>\n",
       "      <th>sid_index</th>\n",
       "      <th>SNP</th>\n",
       "      <th>Chr</th>\n",
       "      <th>GenDist</th>\n",
       "      <th>ChrPos</th>\n",
       "      <th>PValue</th>\n",
       "      <th>SnpWeight</th>\n",
       "      <th>SnpWeightSE</th>\n",
       "      <th>SnpFractVarExpl</th>\n",
       "      <th>Mixing</th>\n",
       "      <th>Nullh2</th>\n",
       "    </tr>\n",
       "  </thead>\n",
       "  <tbody>\n",
       "    <tr>\n",
       "      <th>0</th>\n",
       "      <td>52</td>\n",
       "      <td>snp495_m0_.01m1_.04</td>\n",
       "      <td>5.0</td>\n",
       "      <td>4052.0</td>\n",
       "      <td>4052.0</td>\n",
       "      <td>2.990684e-23</td>\n",
       "      <td>0.418653</td>\n",
       "      <td>0.040052</td>\n",
       "      <td>0.424521</td>\n",
       "      <td>0.0</td>\n",
       "      <td>0.451117</td>\n",
       "    </tr>\n",
       "    <tr>\n",
       "      <th>1</th>\n",
       "      <td>392</td>\n",
       "      <td>snp1422_m0_.49m1_.5</td>\n",
       "      <td>3.0</td>\n",
       "      <td>2392.0</td>\n",
       "      <td>2392.0</td>\n",
       "      <td>8.251922e-23</td>\n",
       "      <td>-0.416495</td>\n",
       "      <td>0.040300</td>\n",
       "      <td>0.420587</td>\n",
       "      <td>0.0</td>\n",
       "      <td>0.279710</td>\n",
       "    </tr>\n",
       "    <tr>\n",
       "      <th>2</th>\n",
       "      <td>650</td>\n",
       "      <td>snp1200_m0_.37m1_.36</td>\n",
       "      <td>3.0</td>\n",
       "      <td>2650.0</td>\n",
       "      <td>2650.0</td>\n",
       "      <td>3.048007e-14</td>\n",
       "      <td>0.328870</td>\n",
       "      <td>0.042021</td>\n",
       "      <td>0.331240</td>\n",
       "      <td>0.0</td>\n",
       "      <td>0.279710</td>\n",
       "    </tr>\n",
       "    <tr>\n",
       "      <th>3</th>\n",
       "      <td>3</td>\n",
       "      <td>snp433_m0_.14m1_.11</td>\n",
       "      <td>3.0</td>\n",
       "      <td>2003.0</td>\n",
       "      <td>2003.0</td>\n",
       "      <td>9.202499e-10</td>\n",
       "      <td>-0.268289</td>\n",
       "      <td>0.042973</td>\n",
       "      <td>0.269670</td>\n",
       "      <td>0.0</td>\n",
       "      <td>0.279710</td>\n",
       "    </tr>\n",
       "    <tr>\n",
       "      <th>4</th>\n",
       "      <td>274</td>\n",
       "      <td>snp2832_m0_.46m1_.1</td>\n",
       "      <td>4.0</td>\n",
       "      <td>3274.0</td>\n",
       "      <td>3274.0</td>\n",
       "      <td>7.069762e-04</td>\n",
       "      <td>0.170421</td>\n",
       "      <td>0.050003</td>\n",
       "      <td>0.151124</td>\n",
       "      <td>0.0</td>\n",
       "      <td>0.542046</td>\n",
       "    </tr>\n",
       "    <tr>\n",
       "      <th>5</th>\n",
       "      <td>13</td>\n",
       "      <td>snp1413_m0_.04m1_.03</td>\n",
       "      <td>3.0</td>\n",
       "      <td>2013.0</td>\n",
       "      <td>2013.0</td>\n",
       "      <td>8.161238e-04</td>\n",
       "      <td>-0.148719</td>\n",
       "      <td>0.044157</td>\n",
       "      <td>0.149377</td>\n",
       "      <td>0.0</td>\n",
       "      <td>0.279710</td>\n",
       "    </tr>\n",
       "    <tr>\n",
       "      <th>6</th>\n",
       "      <td>214</td>\n",
       "      <td>snp2804_m0_.16m1_.3</td>\n",
       "      <td>3.0</td>\n",
       "      <td>2214.0</td>\n",
       "      <td>2214.0</td>\n",
       "      <td>1.239806e-03</td>\n",
       "      <td>0.150705</td>\n",
       "      <td>0.046396</td>\n",
       "      <td>0.144180</td>\n",
       "      <td>0.0</td>\n",
       "      <td>0.279710</td>\n",
       "    </tr>\n",
       "    <tr>\n",
       "      <th>7</th>\n",
       "      <td>117</td>\n",
       "      <td>snp751_m0_.04m1_.25</td>\n",
       "      <td>1.0</td>\n",
       "      <td>117.0</td>\n",
       "      <td>117.0</td>\n",
       "      <td>1.527432e-03</td>\n",
       "      <td>-0.152430</td>\n",
       "      <td>0.047827</td>\n",
       "      <td>0.141523</td>\n",
       "      <td>0.0</td>\n",
       "      <td>0.614963</td>\n",
       "    </tr>\n",
       "    <tr>\n",
       "      <th>8</th>\n",
       "      <td>265</td>\n",
       "      <td>snp1440_m0_.35m1_.32</td>\n",
       "      <td>4.0</td>\n",
       "      <td>3265.0</td>\n",
       "      <td>3265.0</td>\n",
       "      <td>1.771049e-03</td>\n",
       "      <td>0.136281</td>\n",
       "      <td>0.043358</td>\n",
       "      <td>0.139610</td>\n",
       "      <td>0.0</td>\n",
       "      <td>0.542046</td>\n",
       "    </tr>\n",
       "    <tr>\n",
       "      <th>9</th>\n",
       "      <td>307</td>\n",
       "      <td>snp2162_m0_.61m1_.42</td>\n",
       "      <td>2.0</td>\n",
       "      <td>1307.0</td>\n",
       "      <td>1307.0</td>\n",
       "      <td>1.816576e-03</td>\n",
       "      <td>-0.143296</td>\n",
       "      <td>0.045700</td>\n",
       "      <td>0.139280</td>\n",
       "      <td>0.0</td>\n",
       "      <td>0.534262</td>\n",
       "    </tr>\n",
       "  </tbody>\n",
       "</table>\n",
       "</div>"
      ],
      "text/plain": [
       "   sid_index                   SNP  Chr  GenDist  ChrPos        PValue  SnpWeight  SnpWeightSE  SnpFractVarExpl  Mixing    Nullh2\n",
       "0         52   snp495_m0_.01m1_.04  5.0   4052.0  4052.0  2.990684e-23   0.418653     0.040052         0.424521     0.0  0.451117\n",
       "1        392   snp1422_m0_.49m1_.5  3.0   2392.0  2392.0  8.251922e-23  -0.416495     0.040300         0.420587     0.0  0.279710\n",
       "2        650  snp1200_m0_.37m1_.36  3.0   2650.0  2650.0  3.048007e-14   0.328870     0.042021         0.331240     0.0  0.279710\n",
       "3          3   snp433_m0_.14m1_.11  3.0   2003.0  2003.0  9.202499e-10  -0.268289     0.042973         0.269670     0.0  0.279710\n",
       "4        274   snp2832_m0_.46m1_.1  4.0   3274.0  3274.0  7.069762e-04   0.170421     0.050003         0.151124     0.0  0.542046\n",
       "5         13  snp1413_m0_.04m1_.03  3.0   2013.0  2013.0  8.161238e-04  -0.148719     0.044157         0.149377     0.0  0.279710\n",
       "6        214   snp2804_m0_.16m1_.3  3.0   2214.0  2214.0  1.239806e-03   0.150705     0.046396         0.144180     0.0  0.279710\n",
       "7        117   snp751_m0_.04m1_.25  1.0    117.0   117.0  1.527432e-03  -0.152430     0.047827         0.141523     0.0  0.614963\n",
       "8        265  snp1440_m0_.35m1_.32  4.0   3265.0  3265.0  1.771049e-03   0.136281     0.043358         0.139610     0.0  0.542046\n",
       "9        307  snp2162_m0_.61m1_.42  2.0   1307.0  1307.0  1.816576e-03  -0.143296     0.045700         0.139280     0.0  0.534262"
      ]
     },
     "execution_count": 65,
     "metadata": {},
     "output_type": "execute_result"
    }
   ],
   "source": [
    "# import the algorithm\n",
    "from fastlmm.association import single_snp_leave_out_one_chrom\n",
    "from pysnptools.snpreader import Bed\n",
    "\n",
    "# set up data\n",
    "##############################\n",
    "all_bed_file = example_file(\"doc/ipynb/all.*\",endswith=\"*.bed\")\n",
    "snps = Bed(all_bed_file,count_A1=False)\n",
    "pheno_fn = example_file(\"doc/ipynb/pheno_10_causals.txt\")\n",
    "cov_fn = example_file(\"doc/ipynb/cov.txt\")\n",
    "\n",
    "# run gwas\n",
    "###################################################################\n",
    "results_df = single_snp_leave_out_one_chrom(snps,  pheno_fn, covar=cov_fn)\n",
    "\n",
    "# print head of results data frame\n",
    "import pandas as pd\n",
    "pd.set_option('display.width', 1000)\n",
    "results_df.head(n=10)"
   ]
  },
  {
   "cell_type": "code",
   "execution_count": 66,
   "metadata": {},
   "outputs": [
    {
     "data": {
      "image/png": "[encoded data removed]",
      "text/plain": [
       "<Figure size 720x576 with 1 Axes>"
      ]
     },
     "metadata": {
      "needs_background": "light"
     },
     "output_type": "display_data"
    }
   ],
   "source": [
    "# manhattan plot\n",
    "import pylab\n",
    "import fastlmm.util.util as flutil\n",
    "flutil.manhattan_plot(results_df[[\"Chr\", \"ChrPos\", \"PValue\"]],pvalue_line=1e-5,xaxis_unit_bp=False)\n",
    "pylab.show()"
   ]
  },
  {
   "cell_type": "markdown",
   "metadata": {
    "collapsed": true
   },
   "source": [
    "*<font color='red'>see PowerPoint summary</font>*"
   ]
  }
 ],
 "metadata": {
  "kernelspec": {
   "display_name": "Python 3",
   "language": "python",
   "name": "python3"
  },
  "language_info": {
   "codemirror_mode": {
    "name": "ipython",
    "version": 3
   },
   "file_extension": ".py",
   "mimetype": "text/x-python",
   "name": "python",
   "nbconvert_exporter": "python",
   "pygments_lexer": "ipython3",
   "version": "3.7.4"
  }
 },
 "nbformat": 4,
 "nbformat_minor": 1
}
