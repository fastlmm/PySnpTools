{
 "cells": [
  {
   "cell_type": "markdown",
   "metadata": {},
   "source": [
    "# Dist: PySnpTools for Distributions\n",
    "\n",
    "This notebook illustrates the use of the PySnpTools 'DistReader' features.\n",
    "\n",
    "See [PySnpTools's README.md](https://github.com/fastlmm/PySnpTools/blob/master/README.md) for for slides, video, installation instructions, documentation, and code.\n",
    "\n",
    "> Version 0.4.18, May 18, 2020\n",
    "\n",
    "### Contacts\n",
    "\n",
    "* Email the developers at fastlmm-dev@python.org.\n",
    "* [Join](mailto:fastlmm-user-join@python.org?subject=Subscribe) the user discussion and announcement list (or use [web sign up](https://mail.python.org/mailman3/lists/fastlmm-user.python.org)).\n",
    "* [Open an issue](https://github.com/fastlmm/PySnpTools/issues) on GitHub."
   ]
  },
  {
   "cell_type": "markdown",
   "metadata": {},
   "source": [
    "# Sample"
   ]
  },
  {
   "cell_type": "code",
   "execution_count": 46,
   "metadata": {},
   "outputs": [
    {
     "name": "stdout",
     "output_type": "stream",
     "text": [
      "(500, 1, 3)\n",
      "(500, 199, 3)\n"
     ]
    }
   ],
   "source": [
    "# Download a sample file\n",
    "from pysnptools.util import example_file\n",
    "bgen_file = example_file(\"pysnptools/examples/example.bgen\")\n",
    "\n",
    "# Read from the file\n",
    "from pysnptools.distreader import Bgen\n",
    "bgen = Bgen(bgen_file)          # Create a reader\n",
    "probs0 = bgen[:,0].read().val   # Read 1st SNP\n",
    "print(probs0.shape)             # Shape of the NumPy array\n",
    "\n",
    "probs_all = bgen.read().val     # Read all variants\n",
    "print(probs_all.shape)          # Shape of the NumPy array"
   ]
  },
  {
   "cell_type": "markdown",
   "metadata": {},
   "source": [
    "# Set Up\n",
    "\n",
    "pip install pysnptools"
   ]
  },
  {
   "cell_type": "markdown",
   "metadata": {},
   "source": [
    "# Usage"
   ]
  },
  {
   "cell_type": "code",
   "execution_count": 1,
   "metadata": {},
   "outputs": [],
   "source": [
    "from pysnptools.distreader import Bgen"
   ]
  },
  {
   "cell_type": "markdown",
   "metadata": {},
   "source": [
    "We also need an example file, which you can download like this:"
   ]
  },
  {
   "cell_type": "code",
   "execution_count": 2,
   "metadata": {},
   "outputs": [
    {
     "data": {
      "text/plain": [
       "'/mnt/m/Temp/carlkUbuntu/hashdown/de3b6b13abdfc441608d45fe030db4a0/pysnptools/examples/example.bgen'"
      ]
     },
     "execution_count": 2,
     "metadata": {},
     "output_type": "execute_result"
    }
   ],
   "source": [
    "from pysnptools.util import example_file # Download and return local file name\n",
    "bgen_file = example_file(\"pysnptools/examples/example.bgen\")\n",
    "bgen_file"
   ]
  },
  {
   "cell_type": "markdown",
   "metadata": {},
   "source": [
    "# Documentation\n",
    "\n",
    "Full documentation, with examples for every function discussed, can be found here:\n",
    "https://fastlmm.github.io/PySnpTools/#module-pysnptools.distreader"
   ]
  },
  {
   "cell_type": "markdown",
   "metadata": {},
   "source": [
    "# Reading a Bgen file\n",
    "\n",
    "The idea behind PySnpTools is that we create 'readers' for genomic data. Readers can quickly tell about the individuals (also known as samples) and SNPs (also known as variants) in the file. The actual genomic data is not read until a .read() command is given. For efficiency, the readers try to read only the section of genomic data requested.\n",
    "\n",
    "For example:"
   ]
  },
  {
   "cell_type": "code",
   "execution_count": 3,
   "metadata": {},
   "outputs": [
    {
     "data": {
      "text/plain": [
       "Bgen('/mnt/m/Temp/carlkUbuntu/hashdown/de3b6b13abdfc441608d45fe030db4a0/pysnptools/examples/example.bgen')"
      ]
     },
     "execution_count": 3,
     "metadata": {},
     "output_type": "execute_result"
    }
   ],
   "source": [
    "from pysnptools.distreader import Bgen\n",
    "bgen = Bgen(bgen_file) #Create a Bgen reader, named 'bgen'\n",
    "bgen"
   ]
  },
  {
   "cell_type": "code",
   "execution_count": 4,
   "metadata": {},
   "outputs": [
    {
     "name": "stdout",
     "output_type": "stream",
     "text": [
      "(500, 199)\n",
      "[['0' 'sample_001']\n",
      " ['0' 'sample_002']\n",
      " ['0' 'sample_003']\n",
      " ['0' 'sample_004']\n",
      " ['0' 'sample_005']]\n",
      "['SNPID_2,RSID_2' 'SNPID_3,RSID_3' 'SNPID_4,RSID_4' 'SNPID_5,RSID_5'\n",
      " 'SNPID_6,RSID_6']\n",
      "[[1.e+00 0.e+00 2.e+03]\n",
      " [1.e+00 0.e+00 3.e+03]\n",
      " [1.e+00 0.e+00 4.e+03]\n",
      " [1.e+00 0.e+00 5.e+03]\n",
      " [1.e+00 0.e+00 6.e+03]]\n"
     ]
    }
   ],
   "source": [
    "print(bgen.shape)   #print the # of individuals and # of SNPs\n",
    "print(bgen.iid[:5]) #print 1st 5 individuals\n",
    "print(bgen.sid[:5]) #print 1st 5 SNPs\n",
    "print(bgen.pos[:5]) #print chrom and position info for the 1st 5 SNPs"
   ]
  },
  {
   "cell_type": "markdown",
   "metadata": {},
   "source": [
    "Reading from a Bgen reader produces a 'DistData' object. It contains a .val property that is a numpy array of distribution values."
   ]
  },
  {
   "cell_type": "code",
   "execution_count": 7,
   "metadata": {},
   "outputs": [
    {
     "name": "stdout",
     "output_type": "stream",
     "text": [
      "DistData(Bgen('/mnt/m/Temp/carlkUbuntu/hashdown/de3b6b13abdfc441608d45fe030db4a0/pysnptools/examples/example.bgen'))\n",
      "[[[       nan        nan        nan]\n",
      "  [0.00506592 0.0020752  0.99285888]]\n",
      "\n",
      " [[0.02780236 0.00863674 0.9635609 ]\n",
      "  [0.00964355 0.00268555 0.9876709 ]]]\n"
     ]
    }
   ],
   "source": [
    "distdata = bgen.read() #Read all the data from the file into the in-memory distdata object.\n",
    "print(distdata) #The in-memory DistData\n",
    "print(distdata.val[:2,:2]) #Show the distribution data for the first 2 individuals and first 2 SNPs"
   ]
  },
  {
   "cell_type": "markdown",
   "metadata": {},
   "source": [
    "DistData objects are also readers so they know the iid, sid, etc.distribution."
   ]
  },
  {
   "cell_type": "code",
   "execution_count": 8,
   "metadata": {},
   "outputs": [
    {
     "name": "stdout",
     "output_type": "stream",
     "text": [
      "(500, 199)\n",
      "[['0' 'sample_001']\n",
      " ['0' 'sample_002']\n",
      " ['0' 'sample_003']\n",
      " ['0' 'sample_004']\n",
      " ['0' 'sample_005']]\n"
     ]
    }
   ],
   "source": [
    "print(distdata.shape) #print the # of individuals and # of SNPs\n",
    "print(distdata.iid[:5]) #print the first 5 individuals "
   ]
  },
  {
   "cell_type": "markdown",
   "metadata": {},
   "source": [
    "We can do all this in one line:"
   ]
  },
  {
   "cell_type": "code",
   "execution_count": 9,
   "metadata": {},
   "outputs": [
    {
     "data": {
      "text/plain": [
       "array([[[       nan,        nan,        nan],\n",
       "        [0.00506592, 0.0020752 , 0.99285888]],\n",
       "\n",
       "       [[0.02780236, 0.00863674, 0.9635609 ],\n",
       "        [0.00964355, 0.00268555, 0.9876709 ]]])"
      ]
     },
     "execution_count": 9,
     "metadata": {},
     "output_type": "execute_result"
    }
   ],
   "source": [
    "Bgen(bgen_file).read().val[:2,:2]"
   ]
  },
  {
   "cell_type": "markdown",
   "metadata": {},
   "source": [
    "By default, the sid name for a SNP will be something like\n",
    "\n",
    " > 'SNPID_2,RSID_2'.\n",
    " \n",
    "If you only want the SNP id and not the RSID, for example,\n",
    "\n",
    "> 'SNPID_2'\n",
    "\n",
    "then create a Bgen reader with a `sid_function` of 'id'. (Likewise, if you want only the RSID, then 'rsid')"
   ]
  },
  {
   "cell_type": "code",
   "execution_count": 10,
   "metadata": {},
   "outputs": [
    {
     "data": {
      "text/plain": [
       "array(['SNPID_2', 'SNPID_3', 'SNPID_4', 'SNPID_5', 'SNPID_6'], dtype='<U9')"
      ]
     },
     "execution_count": 10,
     "metadata": {},
     "output_type": "execute_result"
    }
   ],
   "source": [
    "bgen2 = Bgen(bgen_file,sid_function='id') #Create a new reader that uses the SNP ids in the BGEN file. Ignore the RSID.\n",
    "bgen2.sid[:5] #print the first 5 SNPs"
   ]
  },
  {
   "cell_type": "markdown",
   "metadata": {},
   "source": [
    "By default, the .read() function will read values into a float64 NumPy array. That is much more precision that many Bgen files use. You'll save 50% of memory by instead reading with a dtype of 'float32'"
   ]
  },
  {
   "cell_type": "code",
   "execution_count": 9,
   "metadata": {},
   "outputs": [
    {
     "data": {
      "text/plain": [
       "dtype('float32')"
      ]
     },
     "execution_count": 9,
     "metadata": {},
     "output_type": "execute_result"
    }
   ],
   "source": [
    "distdata2 = bgen2.read(dtype='float32') #Read into a NumPy array with dtype 'float32'\n",
    "distdata2.val.dtype #Show the dtype of the NumPy array"
   ]
  },
  {
   "cell_type": "markdown",
   "metadata": {},
   "source": [
    "# Example Matrix Operation\n",
    "\n",
    "In this example, we find the average distribution of each SNP and then list the 5 SNPs with the least and greatest entropy. To save memory, we read data from the BGEN file in batches of (no more than) 10 SNPs at a time."
   ]
  },
  {
   "cell_type": "code",
   "execution_count": 12,
   "metadata": {},
   "outputs": [
    {
     "name": "stdout",
     "output_type": "stream",
     "text": [
      "DistData(Bgen('/mnt/m/Temp/carlkUbuntu/hashdown/de3b6b13abdfc441608d45fe030db4a0/pysnptools/examples/example.bgen')[:,0:10])\n",
      "DistData(Bgen('/mnt/m/Temp/carlkUbuntu/hashdown/de3b6b13abdfc441608d45fe030db4a0/pysnptools/examples/example.bgen')[:,10:20])\n",
      "DistData(Bgen('/mnt/m/Temp/carlkUbuntu/hashdown/de3b6b13abdfc441608d45fe030db4a0/pysnptools/examples/example.bgen')[:,20:30])\n",
      "DistData(Bgen('/mnt/m/Temp/carlkUbuntu/hashdown/de3b6b13abdfc441608d45fe030db4a0/pysnptools/examples/example.bgen')[:,30:40])\n",
      "DistData(Bgen('/mnt/m/Temp/carlkUbuntu/hashdown/de3b6b13abdfc441608d45fe030db4a0/pysnptools/examples/example.bgen')[:,40:50])\n",
      "DistData(Bgen('/mnt/m/Temp/carlkUbuntu/hashdown/de3b6b13abdfc441608d45fe030db4a0/pysnptools/examples/example.bgen')[:,50:60])\n",
      "DistData(Bgen('/mnt/m/Temp/carlkUbuntu/hashdown/de3b6b13abdfc441608d45fe030db4a0/pysnptools/examples/example.bgen')[:,60:70])\n",
      "DistData(Bgen('/mnt/m/Temp/carlkUbuntu/hashdown/de3b6b13abdfc441608d45fe030db4a0/pysnptools/examples/example.bgen')[:,70:80])\n",
      "DistData(Bgen('/mnt/m/Temp/carlkUbuntu/hashdown/de3b6b13abdfc441608d45fe030db4a0/pysnptools/examples/example.bgen')[:,80:90])\n",
      "DistData(Bgen('/mnt/m/Temp/carlkUbuntu/hashdown/de3b6b13abdfc441608d45fe030db4a0/pysnptools/examples/example.bgen')[:,90:100])\n",
      "DistData(Bgen('/mnt/m/Temp/carlkUbuntu/hashdown/de3b6b13abdfc441608d45fe030db4a0/pysnptools/examples/example.bgen')[:,100:110])\n",
      "DistData(Bgen('/mnt/m/Temp/carlkUbuntu/hashdown/de3b6b13abdfc441608d45fe030db4a0/pysnptools/examples/example.bgen')[:,110:120])\n",
      "DistData(Bgen('/mnt/m/Temp/carlkUbuntu/hashdown/de3b6b13abdfc441608d45fe030db4a0/pysnptools/examples/example.bgen')[:,120:130])\n",
      "DistData(Bgen('/mnt/m/Temp/carlkUbuntu/hashdown/de3b6b13abdfc441608d45fe030db4a0/pysnptools/examples/example.bgen')[:,130:140])\n",
      "DistData(Bgen('/mnt/m/Temp/carlkUbuntu/hashdown/de3b6b13abdfc441608d45fe030db4a0/pysnptools/examples/example.bgen')[:,140:150])\n",
      "DistData(Bgen('/mnt/m/Temp/carlkUbuntu/hashdown/de3b6b13abdfc441608d45fe030db4a0/pysnptools/examples/example.bgen')[:,150:160])\n",
      "DistData(Bgen('/mnt/m/Temp/carlkUbuntu/hashdown/de3b6b13abdfc441608d45fe030db4a0/pysnptools/examples/example.bgen')[:,160:170])\n",
      "DistData(Bgen('/mnt/m/Temp/carlkUbuntu/hashdown/de3b6b13abdfc441608d45fe030db4a0/pysnptools/examples/example.bgen')[:,170:180])\n",
      "DistData(Bgen('/mnt/m/Temp/carlkUbuntu/hashdown/de3b6b13abdfc441608d45fe030db4a0/pysnptools/examples/example.bgen')[:,180:190])\n",
      "DistData(Bgen('/mnt/m/Temp/carlkUbuntu/hashdown/de3b6b13abdfc441608d45fe030db4a0/pysnptools/examples/example.bgen')[:,190:200])\n"
     ]
    },
    {
     "data": {
      "text/html": [
       "<div>\n",
       "<style scoped>\n",
       "    .dataframe tbody tr th:only-of-type {\n",
       "        vertical-align: middle;\n",
       "    }\n",
       "\n",
       "    .dataframe tbody tr th {\n",
       "        vertical-align: top;\n",
       "    }\n",
       "\n",
       "    .dataframe thead th {\n",
       "        text-align: right;\n",
       "    }\n",
       "</style>\n",
       "<table border=\"1\" class=\"dataframe\">\n",
       "  <thead>\n",
       "    <tr style=\"text-align: right;\">\n",
       "      <th></th>\n",
       "      <th>sid</th>\n",
       "      <th>shannon2</th>\n",
       "      <th>meandist</th>\n",
       "    </tr>\n",
       "  </thead>\n",
       "  <tbody>\n",
       "    <tr>\n",
       "      <th>7</th>\n",
       "      <td>SNPID_129</td>\n",
       "      <td>0.157309</td>\n",
       "      <td>0.97979075,0.016114073,0.0040951488</td>\n",
       "    </tr>\n",
       "    <tr>\n",
       "      <th>7</th>\n",
       "      <td>SNPID_29</td>\n",
       "      <td>0.157309</td>\n",
       "      <td>0.0040951488,0.016114073,0.97979075</td>\n",
       "    </tr>\n",
       "    <tr>\n",
       "      <th>1</th>\n",
       "      <td>SNPID_173</td>\n",
       "      <td>0.255571</td>\n",
       "      <td>0.96289223,0.029730404,0.0073773814</td>\n",
       "    </tr>\n",
       "    <tr>\n",
       "      <th>1</th>\n",
       "      <td>SNPID_73</td>\n",
       "      <td>0.255571</td>\n",
       "      <td>0.0073773814,0.029730404,0.96289223</td>\n",
       "    </tr>\n",
       "    <tr>\n",
       "      <th>1</th>\n",
       "      <td>SNPID_193</td>\n",
       "      <td>0.288233</td>\n",
       "      <td>0.0066580246,0.03753765,0.95580435</td>\n",
       "    </tr>\n",
       "  </tbody>\n",
       "</table>\n",
       "</div>"
      ],
      "text/plain": [
       "         sid  shannon2                             meandist\n",
       "7  SNPID_129  0.157309  0.97979075,0.016114073,0.0040951488\n",
       "7   SNPID_29  0.157309  0.0040951488,0.016114073,0.97979075\n",
       "1  SNPID_173  0.255571  0.96289223,0.029730404,0.0073773814\n",
       "1   SNPID_73  0.255571  0.0073773814,0.029730404,0.96289223\n",
       "1  SNPID_193  0.288233   0.0066580246,0.03753765,0.95580435"
      ]
     },
     "execution_count": 12,
     "metadata": {},
     "output_type": "execute_result"
    }
   ],
   "source": [
    "import numpy as np\n",
    "import pandas as pd\n",
    "from pysnptools.distreader import Bgen\n",
    "\n",
    "bgen3 = Bgen(bgen_file,sid_function='id') #Create a Bgen reader, named 'bgen3'. Use the SNP id, ignore the RSID\n",
    "batch_size = 10\n",
    "df_list = []\n",
    "for start in range(0,bgen3.sid_count,batch_size): #Start with every 10th SNP\n",
    "    distdata3 = bgen3[:,start:start+batch_size].read(dtype='float32')# Read batches of no more than 10 as a Numpy float32 array\n",
    "    print(distdata3)  \n",
    "    #Find the mean distribution for each SNP\n",
    "    meandist = np.nanmean(distdata3.val,axis=0) #axis0 is iid, axis1 is SNP, axis3 is allele count\n",
    "    meandist_as_string = [','.join(row) for row in meandist.astype('str')]\n",
    "    shannon2 = -np.sum(meandist*np.log2(meandist),axis=1) #compute the entropy of each distribution\n",
    "    #Create a Pandas dataframe of results\n",
    "    df_list.append(pd.DataFrame({'sid':distdata3.sid,'shannon2':shannon2,'meandist':meandist_as_string}))\n",
    "#Merge each batches Pandas dataframe, sort, and list the 5 most skewed SNPs    \n",
    "df = pd.concat(df_list)\n",
    "df.sort_values('shannon2',inplace=True)\n",
    "df[:5]"
   ]
  },
  {
   "cell_type": "code",
   "execution_count": 13,
   "metadata": {},
   "outputs": [
    {
     "data": {
      "text/html": [
       "<div>\n",
       "<style scoped>\n",
       "    .dataframe tbody tr th:only-of-type {\n",
       "        vertical-align: middle;\n",
       "    }\n",
       "\n",
       "    .dataframe tbody tr th {\n",
       "        vertical-align: top;\n",
       "    }\n",
       "\n",
       "    .dataframe thead th {\n",
       "        text-align: right;\n",
       "    }\n",
       "</style>\n",
       "<table border=\"1\" class=\"dataframe\">\n",
       "  <thead>\n",
       "    <tr style=\"text-align: right;\">\n",
       "      <th></th>\n",
       "      <th>sid</th>\n",
       "      <th>shannon2</th>\n",
       "      <th>meandist</th>\n",
       "    </tr>\n",
       "  </thead>\n",
       "  <tbody>\n",
       "    <tr>\n",
       "      <th>7</th>\n",
       "      <td>SNPID_79</td>\n",
       "      <td>1.513786</td>\n",
       "      <td>0.24601659,0.4847949,0.26918846</td>\n",
       "    </tr>\n",
       "    <tr>\n",
       "      <th>5</th>\n",
       "      <td>SNPID_57</td>\n",
       "      <td>1.519135</td>\n",
       "      <td>0.27145734,0.47892186,0.24962077</td>\n",
       "    </tr>\n",
       "    <tr>\n",
       "      <th>5</th>\n",
       "      <td>SNPID_157</td>\n",
       "      <td>1.519136</td>\n",
       "      <td>0.24962077,0.47892186,0.27145734</td>\n",
       "    </tr>\n",
       "    <tr>\n",
       "      <th>5</th>\n",
       "      <td>SNPID_37</td>\n",
       "      <td>1.528185</td>\n",
       "      <td>0.21882463,0.44508588,0.33608952</td>\n",
       "    </tr>\n",
       "    <tr>\n",
       "      <th>5</th>\n",
       "      <td>SNPID_137</td>\n",
       "      <td>1.528185</td>\n",
       "      <td>0.33608952,0.44508588,0.21882463</td>\n",
       "    </tr>\n",
       "  </tbody>\n",
       "</table>\n",
       "</div>"
      ],
      "text/plain": [
       "         sid  shannon2                          meandist\n",
       "7   SNPID_79  1.513786   0.24601659,0.4847949,0.26918846\n",
       "5   SNPID_57  1.519135  0.27145734,0.47892186,0.24962077\n",
       "5  SNPID_157  1.519136  0.24962077,0.47892186,0.27145734\n",
       "5   SNPID_37  1.528185  0.21882463,0.44508588,0.33608952\n",
       "5  SNPID_137  1.528185  0.33608952,0.44508588,0.21882463"
      ]
     },
     "execution_count": 13,
     "metadata": {},
     "output_type": "execute_result"
    }
   ],
   "source": [
    "#Here are 5 most even distributions\n",
    "df[-5:]"
   ]
  },
  {
   "cell_type": "markdown",
   "metadata": {},
   "source": [
    "# How fast does Bgen read?\n",
    "\n",
    "The PySnpTool's Bgen reader is built on Danilo Horta's Bgen-reader-py package. On top of that, it includes some speed-ups that will go into the next version Danilo's tool.\n",
    "\n",
    "Currently, on my machine, with 1000 individuals, Bgen can read from about 4000 SNPs per second, so about 4 million 3-value distributions per second. When the number of individuals goes to 250,000, Bgen continues to read about 4 million 3-value distributions per second."
   ]
  },
  {
   "cell_type": "markdown",
   "metadata": {},
   "source": [
    "# Can PySnpTools write Bgen files?\n",
    "\n",
    "Yes, kind of. But you must install a 3rd party program and set an environment variable.\n",
    "\n",
    "> To write BGEN files, install QCTool from https://www.well.ox.ac.uk/~gav/qctool/\n",
    "\n",
    "> Set your QCTOOLPATH environment variable to the tool.\n",
    "\n",
    "You'll likely need to restart this notebook so Python will see your new environment variable."
   ]
  },
  {
   "cell_type": "code",
   "execution_count": 14,
   "metadata": {},
   "outputs": [
    {
     "data": {
      "text/plain": [
       "'/mnt/m/qctool/build/release/qctool_v2.0.7'"
      ]
     },
     "execution_count": 14,
     "metadata": {},
     "output_type": "execute_result"
    }
   ],
   "source": [
    "import os\n",
    "if os.environ.get('QCTOOLPATH') is None:\n",
    "    print(\"To write BGEN files, install QCTool from https://www.well.ox.ac.uk/~gav/qctool/\")\n",
    "    print(\"Set your QCTOOLPATH environment variable to the tool.\")\n",
    "os.environ['QCTOOLPATH']"
   ]
  },
  {
   "cell_type": "markdown",
   "metadata": {},
   "source": [
    " With QCTools installed, you can write BGEN files.\n",
    " \n",
    " Suppose we wish to write the first 10 SNPs to the example.bgen file to file example10.bgen.\n",
    " \n",
    " This example prints the size of the original example.bgen file and then it creates example10.bgen and then prints its size. "
   ]
  },
  {
   "cell_type": "code",
   "execution_count": 15,
   "metadata": {},
   "outputs": [
    {
     "name": "stdout",
     "output_type": "stream",
     "text": [
      "665108\n",
      "30262\n",
      "Bgen('example10.bgen')\n"
     ]
    }
   ],
   "source": [
    "from pysnptools.distreader import Bgen\n",
    "import os\n",
    "print(os.path.getsize(bgen_file))\n",
    "example = Bgen(bgen_file) # a Bgen reader for the whole file\n",
    "# create a reader for the subset of the file with all the individuals and the first 10 SNPs\n",
    "# write that to a file\n",
    "example10 = Bgen.write('example10.bgen',example[:,:10],bits=23)\n",
    "print(os.path.getsize('example10.bgen'))\n",
    "print(example10)"
   ]
  },
  {
   "cell_type": "markdown",
   "metadata": {},
   "source": [
    "Behind the scenes the 'write' method is generating a text-based *.gen file and then using QCTool to convert *.gen to *.bgen. The 'bits' option is the number of bits used to represent each probability in the distribution. The number ranges from 1 to 32.\n",
    "\n",
    "* 1 - can only presesent probabilities of 0.0 and 1.0\n",
    "* 8 - how UK Biobank writes their data (according to https://bitbucket.org/gavinband/bgen/wiki/BGEN_in_the_UK_Biobank)\n",
    "* 16 - the default\n",
    "* 23 - full resolution for Numpy float32\n",
    "* 32 - the maximum\n",
    "* (52) - The not-allowed value that would be needed for full resolution for Numpy float64."
   ]
  },
  {
   "cell_type": "markdown",
   "metadata": {},
   "source": [
    "# DistData, an In-Memory DistReader\n",
    "\n",
    "When we read from a Bgen, the result is a DistData object that contains an iid, sid, pos, and NumPy val (with dimensions iid_count * sid_count * 3), where iid is the list of individuals, sid is the list of SNPs, and pos is an array of position information for each SNP.\n",
    "\n",
    "We can also create a DistData object from scratch. For example,"
   ]
  },
  {
   "cell_type": "code",
   "execution_count": 16,
   "metadata": {},
   "outputs": [
    {
     "data": {
      "text/plain": [
       "DistData(in-memory sample)"
      ]
     },
     "execution_count": 16,
     "metadata": {},
     "output_type": "execute_result"
    }
   ],
   "source": [
    "import numpy as np\n",
    "from pysnptools.distreader import DistData\n",
    "\n",
    "iid = [('0','iid0'),('0','iid1')]\n",
    "sid = ['snp0','snp1','snp2']\n",
    "pos = [[1,0,1],[1,0,2],[1,0,3]] #chromosome, genetic distance, basepair distance\n",
    "val = np.array([[[0,0,1],[.5,.25,.25],[.95,.05,0]],\n",
    "                [[1,0,0],[44,44,44],[np.nan,np.nan,np.nan]]\n",
    "               ],dtype='float32')\n",
    "distdata = DistData(iid=iid,sid=sid,pos=pos,val=val,name='in-memory sample')\n",
    "distdata"
   ]
  },
  {
   "cell_type": "markdown",
   "metadata": {},
   "source": [
    "Two things to note:\n",
    "* Missing data is represented as [np.nan,np.nan,np.nan]\n",
    "* The values do not need to be proper, normalized probability distributions, so [44,44,44] is fine.\n",
    "\n",
    "We can extract the usual info."
   ]
  },
  {
   "cell_type": "code",
   "execution_count": 17,
   "metadata": {},
   "outputs": [
    {
     "name": "stdout",
     "output_type": "stream",
     "text": [
      "(2, 3)\n",
      "[['0' 'iid0']\n",
      " ['0' 'iid1']]\n",
      "['snp0' 'snp1' 'snp2']\n",
      "[[1 0 1]\n",
      " [1 0 2]\n",
      " [1 0 3]]\n",
      "[[[ 0.    0.    1.  ]\n",
      "  [ 0.5   0.25  0.25]\n",
      "  [ 0.95  0.05  0.  ]]\n",
      "\n",
      " [[ 1.    0.    0.  ]\n",
      "  [44.   44.   44.  ]\n",
      "  [  nan   nan   nan]]]\n"
     ]
    }
   ],
   "source": [
    "print(distdata.shape)\n",
    "print(distdata.iid)\n",
    "print(distdata.sid)\n",
    "print(distdata.pos)\n",
    "print(distdata.val)"
   ]
  },
  {
   "cell_type": "markdown",
   "metadata": {},
   "source": [
    "PySnpTools doesn't currently offer a way to normalize the distributions (make them add up to 1), but this bit of code does the trick, changing [44,44,44] to [.33,.33,.33]."
   ]
  },
  {
   "cell_type": "code",
   "execution_count": 18,
   "metadata": {},
   "outputs": [
    {
     "data": {
      "text/plain": [
       "array([[[0.        , 0.        , 1.        ],\n",
       "        [0.5       , 0.25      , 0.25      ],\n",
       "        [0.95      , 0.05      , 0.        ]],\n",
       "\n",
       "       [[1.        , 0.        , 0.        ],\n",
       "        [0.33333334, 0.33333334, 0.33333334],\n",
       "        [       nan,        nan,        nan]]], dtype=float32)"
      ]
     },
     "execution_count": 18,
     "metadata": {},
     "output_type": "execute_result"
    }
   ],
   "source": [
    "distdata.val /= distdata.val.sum(axis=2,keepdims=True)\n",
    "distdata.val"
   ]
  },
  {
   "cell_type": "markdown",
   "metadata": {},
   "source": [
    "We can write a DistData to Bgen format. When we read it back, the numbers change slightly because Bgen rounds number different than NumPy."
   ]
  },
  {
   "cell_type": "code",
   "execution_count": 20,
   "metadata": {},
   "outputs": [
    {
     "data": {
      "text/plain": [
       "array([[[0.        , 0.        , 1.        ],\n",
       "        [0.49999994, 0.25000003, 0.25000003],\n",
       "        [0.95000005, 0.04999996, 0.        ]],\n",
       "\n",
       "       [[1.        , 0.        , 0.        ],\n",
       "        [0.3333334 , 0.33333328, 0.33333328],\n",
       "        [       nan,        nan,        nan]]], dtype=float32)"
      ]
     },
     "execution_count": 20,
     "metadata": {},
     "output_type": "execute_result"
    }
   ],
   "source": [
    "from pysnptools.distreader import Bgen\n",
    "\n",
    "bgen = Bgen.write('2x3sample.bgen',distdata,bits=23) #write it\n",
    "\n",
    "bgen.read(dtype='float32').val #Read the data from disk"
   ]
  },
  {
   "cell_type": "markdown",
   "metadata": {},
   "source": [
    "# Fancy Reads\n",
    "\n",
    "PySnpTools provides nice ways to read just the data you want. For example, first or last individuals or SNPs. Every 20th SNP, just named SNPs, etc. Here are some examples."
   ]
  },
  {
   "cell_type": "code",
   "execution_count": 21,
   "metadata": {},
   "outputs": [],
   "source": [
    "from pysnptools.distreader import Bgen\n",
    "example = Bgen(bgen_file,sid_function='id') #Create a reader"
   ]
  },
  {
   "cell_type": "markdown",
   "metadata": {},
   "source": [
    "Read the 1st 10 individuals, first 5 SNPs, both, and then the last"
   ]
  },
  {
   "cell_type": "code",
   "execution_count": 19,
   "metadata": {},
   "outputs": [
    {
     "name": "stdout",
     "output_type": "stream",
     "text": [
      "[['0' 'sample_001']\n",
      " ['0' 'sample_002']\n",
      " ['0' 'sample_003']\n",
      " ['0' 'sample_004']\n",
      " ['0' 'sample_005']\n",
      " ['0' 'sample_006']\n",
      " ['0' 'sample_007']\n",
      " ['0' 'sample_008']\n",
      " ['0' 'sample_009']\n",
      " ['0' 'sample_010']]\n"
     ]
    },
    {
     "data": {
      "text/plain": [
       "(10, 199, 3)"
      ]
     },
     "execution_count": 19,
     "metadata": {},
     "output_type": "execute_result"
    }
   ],
   "source": [
    "distdata10i = example[:10,:].read(dtype='float32') # read just first 10 individuals across all SNPs\n",
    "print(distdata10i.iid) #Print the iids\n",
    "distdata10i.val.shape #Print the shape of the numpy array"
   ]
  },
  {
   "cell_type": "code",
   "execution_count": 22,
   "metadata": {},
   "outputs": [
    {
     "name": "stdout",
     "output_type": "stream",
     "text": [
      "['SNPID_2' 'SNPID_3' 'SNPID_4' 'SNPID_5' 'SNPID_6']\n"
     ]
    },
    {
     "data": {
      "text/plain": [
       "(500, 5, 3)"
      ]
     },
     "execution_count": 22,
     "metadata": {},
     "output_type": "execute_result"
    }
   ],
   "source": [
    "distdata5s = example[:,:5].read(dtype='float32') # read all individuals from just first 5 SNPs\n",
    "print(distdata5s.sid) #Print the sids\n",
    "distdata5s.val.shape #Print the shape of the numpy array"
   ]
  },
  {
   "cell_type": "code",
   "execution_count": 23,
   "metadata": {},
   "outputs": [
    {
     "name": "stdout",
     "output_type": "stream",
     "text": [
      "[['0' 'sample_001']\n",
      " ['0' 'sample_002']\n",
      " ['0' 'sample_003']\n",
      " ['0' 'sample_004']\n",
      " ['0' 'sample_005']\n",
      " ['0' 'sample_006']\n",
      " ['0' 'sample_007']\n",
      " ['0' 'sample_008']\n",
      " ['0' 'sample_009']\n",
      " ['0' 'sample_010']]\n",
      "['SNPID_2' 'SNPID_3' 'SNPID_4' 'SNPID_5' 'SNPID_6']\n"
     ]
    },
    {
     "data": {
      "text/plain": [
       "(10, 5, 3)"
      ]
     },
     "execution_count": 23,
     "metadata": {},
     "output_type": "execute_result"
    }
   ],
   "source": [
    "distdata10i5s = example[:10,:5].read(dtype='float32') # read 1st 10 individuals from just first 5 SNPs\n",
    "print(distdata10i5s.iid) #Print the iids\n",
    "print(distdata10i5s.sid) #Print the sids\n",
    "distdata10i5s.val.shape #print the shape of the numpy array"
   ]
  },
  {
   "cell_type": "code",
   "execution_count": 24,
   "metadata": {},
   "outputs": [
    {
     "name": "stdout",
     "output_type": "stream",
     "text": [
      "[['0' 'sample_491']\n",
      " ['0' 'sample_492']\n",
      " ['0' 'sample_493']\n",
      " ['0' 'sample_494']\n",
      " ['0' 'sample_495']\n",
      " ['0' 'sample_496']\n",
      " ['0' 'sample_497']\n",
      " ['0' 'sample_498']\n",
      " ['0' 'sample_499']\n",
      " ['0' 'sample_500']]\n",
      "['SNPID_196' 'SNPID_197' 'SNPID_198' 'SNPID_199' 'SNPID_200']\n"
     ]
    },
    {
     "data": {
      "text/plain": [
       "(10, 5, 3)"
      ]
     },
     "execution_count": 24,
     "metadata": {},
     "output_type": "execute_result"
    }
   ],
   "source": [
    "distdata_last10i5s = example[-10:,-5:].read(dtype='float32') # read last 10 individuals from just last 5 SNPs\n",
    "print(distdata_last10i5s.iid) #Print the iids\n",
    "print(distdata_last10i5s.sid) #Print the sids\n",
    "distdata_last10i5s.val.shape #print the shape of the numpy array"
   ]
  },
  {
   "cell_type": "markdown",
   "metadata": {},
   "source": [
    "Here is how we read every 25th SNP."
   ]
  },
  {
   "cell_type": "code",
   "execution_count": 25,
   "metadata": {},
   "outputs": [
    {
     "name": "stdout",
     "output_type": "stream",
     "text": [
      "['SNPID_2' 'SNPID_27' 'SNPID_52' 'SNPID_77' 'SNPID_102' 'SNPID_127'\n",
      " 'SNPID_152' 'SNPID_177']\n"
     ]
    },
    {
     "data": {
      "text/plain": [
       "(500, 8, 3)"
      ]
     },
     "execution_count": 25,
     "metadata": {},
     "output_type": "execute_result"
    }
   ],
   "source": [
    "distdata_every25s = example[:,::25].read(dtype='float32') # read all individuals every 25th SNP\n",
    "print(distdata_every25s.sid) #Print the sids\n",
    "distdata_every25s.val.shape #Print the shape of the numpy array"
   ]
  },
  {
   "cell_type": "markdown",
   "metadata": {},
   "source": [
    "We can read named SNPs"
   ]
  },
  {
   "cell_type": "code",
   "execution_count": 26,
   "metadata": {},
   "outputs": [
    {
     "name": "stdout",
     "output_type": "stream",
     "text": [
      "['SNPID_22' 'SNPID_122' 'SNPID_2']\n"
     ]
    },
    {
     "data": {
      "text/plain": [
       "(500, 3, 3)"
      ]
     },
     "execution_count": 26,
     "metadata": {},
     "output_type": "execute_result"
    }
   ],
   "source": [
    "sid_list = ['SNPID_22','SNPID_122','SNPID_2']\n",
    "distdata_2s = example[:,example.sid_to_index(sid_list)].read(dtype='float32') # read the listed SNPs\n",
    "print(distdata_2s.sid) #Print the sids\n",
    "distdata_2s.val.shape #print the shape of the numpy array"
   ]
  },
  {
   "cell_type": "markdown",
   "metadata": {},
   "source": [
    "In addition, DistReader read according to a list of index numbers or a list of Booleans. It is fine to \"stack\" such subsetting. In every case, the final read will (to the degree possible) only read the final data requested.\n",
    "\n",
    "For example, here in one line, we selected a file, select every 2nd individual and every 25th SNP, and then select some\n",
    "individuals by index number and SNPs by Boolean array, and then read and show the NumPy array."
   ]
  },
  {
   "cell_type": "code",
   "execution_count": 27,
   "metadata": {},
   "outputs": [
    {
     "data": {
      "text/plain": [
       "array([[[2.2027607e-01, 7.4981719e-02, 7.0474219e-01],\n",
       "        [3.7230279e-03, 6.0117790e-03, 9.9026519e-01],\n",
       "        [9.9026519e-01, 6.0117790e-03, 3.7230279e-03]],\n",
       "\n",
       "       [[3.6285423e-02, 7.8558350e-01, 1.7813110e-01],\n",
       "        [1.7882757e-02, 1.8309942e-04, 9.8193413e-01],\n",
       "        [9.8193413e-01, 1.8309942e-04, 1.7882757e-02]],\n",
       "\n",
       "       [[1.1596701e-03, 6.5612802e-03, 9.9227905e-01],\n",
       "        [2.2156473e-02, 9.5220792e-01, 2.5635580e-02],\n",
       "        [2.5635580e-02, 9.5220792e-01, 2.2156473e-02]],\n",
       "\n",
       "       [[1.0857865e-01, 8.6313242e-01, 2.8288929e-02],\n",
       "        [1.8127393e-02, 1.0497996e-02, 9.7137463e-01],\n",
       "        [9.7137463e-01, 1.0497996e-02, 1.8127393e-02]]], dtype=float32)"
      ]
     },
     "execution_count": 27,
     "metadata": {},
     "output_type": "execute_result"
    }
   ],
   "source": [
    "from pysnptools.distreader import Bgen\n",
    "Bgen(bgen_file,sid_function='id')[::2,::25]\\\n",
    "   [[1,2,4,8],[False,False,True,True,False,False,False,True,False]]\\\n",
    "   .read(dtype='float32').val"
   ]
  },
  {
   "cell_type": "markdown",
   "metadata": {},
   "source": [
    "# Distributions to Expected Values and Bed Data to Distributions\n",
    "\n",
    "We've seen that a DistReader produces a 3-value probability distribution for every individual and SNP.\n",
    "We can turn those 3-value distributions into a single expected value with the 'as_snp' method.\n",
    "\n",
    "Here are the values from a Bgen reader, followed by the values from the a Bgen.as_snp() reader."
   ]
  },
  {
   "cell_type": "code",
   "execution_count": 28,
   "metadata": {},
   "outputs": [
    {
     "data": {
      "text/plain": [
       "array([[[       nan,        nan,        nan],\n",
       "        [0.00506592, 0.0020752 , 0.9928589 ]],\n",
       "\n",
       "       [[0.02780236, 0.00863674, 0.9635609 ],\n",
       "        [0.00964355, 0.00268555, 0.9876709 ]]], dtype=float32)"
      ]
     },
     "execution_count": 28,
     "metadata": {},
     "output_type": "execute_result"
    }
   ],
   "source": [
    "from pysnptools.distreader import Bgen\n",
    "distreader = Bgen(bgen_file,sid_function='id')\n",
    "distreader[:2,:2].read(dtype='float32').val"
   ]
  },
  {
   "cell_type": "code",
   "execution_count": 29,
   "metadata": {},
   "outputs": [
    {
     "data": {
      "text/plain": [
       "array([[       nan, 1.987793  , 0.01550294],\n",
       "       [1.9357585 , 1.9780273 , 0.99383545]], dtype=float32)"
      ]
     },
     "execution_count": 29,
     "metadata": {},
     "output_type": "execute_result"
    }
   ],
   "source": [
    "snpreader = distreader.as_snp()\n",
    "snpreader[:2,:3].read(dtype='float32').val"
   ]
  },
  {
   "cell_type": "markdown",
   "metadata": {},
   "source": [
    "By default, the expected values will range from 0 to 2, but you can change that to, for example, a range of 0 to 1"
   ]
  },
  {
   "cell_type": "code",
   "execution_count": 30,
   "metadata": {},
   "outputs": [
    {
     "data": {
      "text/plain": [
       "array([[       nan, 0.9938965 , 0.00775147],\n",
       "       [0.96787924, 0.9890137 , 0.49691772]], dtype=float32)"
      ]
     },
     "execution_count": 30,
     "metadata": {},
     "output_type": "execute_result"
    }
   ],
   "source": [
    "snpreader1 = distreader.as_snp(max_weight=1)\n",
    "snpreader1[:2,:3].read(dtype='float32').val"
   ]
  },
  {
   "cell_type": "markdown",
   "metadata": {},
   "source": [
    "We can also go in the opposite direction, in a way. First, let's download some Bed data."
   ]
  },
  {
   "cell_type": "code",
   "execution_count": 31,
   "metadata": {},
   "outputs": [
    {
     "name": "stdout",
     "output_type": "stream",
     "text": [
      "(500, 10000)\n",
      "[['per0' 'per0']\n",
      " ['per1' 'per1']\n",
      " ['per2' 'per2']\n",
      " ['per3' 'per3']\n",
      " ['per4' 'per4']]\n",
      "[[1 0 1]\n",
      " [1 0 2]\n",
      " [1 0 3]\n",
      " [1 0 4]\n",
      " [1 0 5]]\n"
     ]
    }
   ],
   "source": [
    "import numpy as np\n",
    "from pysnptools.snpreader import Bed\n",
    "\n",
    "bed_file = example_file(\"pysnptools/examples/toydata.5chrom.*\",\"*.bed\")\n",
    "bed = Bed(bed_file,count_A1=True)\n",
    "print(bed.shape)   #print the # of individuals and # of SNPs\n",
    "print(bed.iid[:5]) #print 1st 5 individuals\n",
    "print(bed.pos[:5]) #print 1st chrom and position info for the 1st 5 SNPs"
   ]
  },
  {
   "cell_type": "markdown",
   "metadata": {},
   "source": [
    "Bed values are 0,1,2 (or missing). They give count for allele A1. This says to read data for the first 3 individuals and the first 2 SNPs.  For the first individual and first SNP the value is \"1\" meaning allele A1 was seen once."
   ]
  },
  {
   "cell_type": "code",
   "execution_count": 32,
   "metadata": {},
   "outputs": [
    {
     "data": {
      "text/plain": [
       "array([[1., 0.],\n",
       "       [1., 0.],\n",
       "       [0., 0.]], dtype=float32)"
      ]
     },
     "execution_count": 32,
     "metadata": {},
     "output_type": "execute_result"
    }
   ],
   "source": [
    "bed[:3,:2].read(dtype='float32').val"
   ]
  },
  {
   "cell_type": "markdown",
   "metadata": {},
   "source": [
    "We can use 'as_dist' to create a distribution reader. Our A1 count of 1 because a distribution of [0,1,0], meaning 0 probability of an A1 count 0, 100% probability of an A1 count of 1, and 0 probability of a count of 2."
   ]
  },
  {
   "cell_type": "code",
   "execution_count": 33,
   "metadata": {},
   "outputs": [
    {
     "data": {
      "text/plain": [
       "array([[[0., 1., 0.],\n",
       "        [1., 0., 0.]],\n",
       "\n",
       "       [[0., 1., 0.],\n",
       "        [1., 0., 0.]],\n",
       "\n",
       "       [[1., 0., 0.],\n",
       "        [1., 0., 0.]]], dtype=float32)"
      ]
     },
     "execution_count": 33,
     "metadata": {},
     "output_type": "execute_result"
    }
   ],
   "source": [
    "bedasdist = bed.as_dist()\n",
    "bedasdist[:3,:2].read(dtype='float32').val"
   ]
  },
  {
   "cell_type": "markdown",
   "metadata": {},
   "source": [
    "# Other DistReader File Types\n",
    "\n",
    "In addition to Bgen, we can also save distribution data into\n",
    "\n",
    "* *.dist.memmap -- puts NumPy array both on disk and in memory for instant access (but bigger size than Bgen)\n",
    "* *.dist.nzp -- save to compressed NumPy arrays on disk (medium size and medium access time)\n",
    "* *.dist.hdf5 -- save arrays to Hdf5 format - like *.dist.npz but maybe more readable from other programs\n",
    "\n",
    "These are fully documented with examples in https://fastlmm.github.io/PySnpTools/#module-pysnptools.distreader.\n",
    "\n",
    "Let's re-do the matrix operation we did earlier, but using DistMemMap."
   ]
  },
  {
   "cell_type": "code",
   "execution_count": 34,
   "metadata": {},
   "outputs": [
    {
     "name": "stdout",
     "output_type": "stream",
     "text": [
      "665108\n",
      "1212117\n"
     ]
    },
    {
     "data": {
      "text/html": [
       "<div>\n",
       "<style scoped>\n",
       "    .dataframe tbody tr th:only-of-type {\n",
       "        vertical-align: middle;\n",
       "    }\n",
       "\n",
       "    .dataframe tbody tr th {\n",
       "        vertical-align: top;\n",
       "    }\n",
       "\n",
       "    .dataframe thead th {\n",
       "        text-align: right;\n",
       "    }\n",
       "</style>\n",
       "<table border=\"1\" class=\"dataframe\">\n",
       "  <thead>\n",
       "    <tr style=\"text-align: right;\">\n",
       "      <th></th>\n",
       "      <th>sid</th>\n",
       "      <th>shannon2</th>\n",
       "      <th>meandist</th>\n",
       "    </tr>\n",
       "  </thead>\n",
       "  <tbody>\n",
       "    <tr>\n",
       "      <th>127</th>\n",
       "      <td>SNPID_129</td>\n",
       "      <td>0.157309</td>\n",
       "      <td>0.97979075,0.016114073,0.0040951488</td>\n",
       "    </tr>\n",
       "    <tr>\n",
       "      <th>27</th>\n",
       "      <td>SNPID_29</td>\n",
       "      <td>0.157309</td>\n",
       "      <td>0.0040951488,0.016114073,0.97979075</td>\n",
       "    </tr>\n",
       "    <tr>\n",
       "      <th>171</th>\n",
       "      <td>SNPID_173</td>\n",
       "      <td>0.255571</td>\n",
       "      <td>0.96289223,0.029730404,0.0073773814</td>\n",
       "    </tr>\n",
       "    <tr>\n",
       "      <th>71</th>\n",
       "      <td>SNPID_73</td>\n",
       "      <td>0.255571</td>\n",
       "      <td>0.0073773814,0.029730404,0.96289223</td>\n",
       "    </tr>\n",
       "    <tr>\n",
       "      <th>191</th>\n",
       "      <td>SNPID_193</td>\n",
       "      <td>0.288233</td>\n",
       "      <td>0.0066580246,0.03753765,0.95580435</td>\n",
       "    </tr>\n",
       "  </tbody>\n",
       "</table>\n",
       "</div>"
      ],
      "text/plain": [
       "           sid  shannon2                             meandist\n",
       "127  SNPID_129  0.157309  0.97979075,0.016114073,0.0040951488\n",
       "27    SNPID_29  0.157309  0.0040951488,0.016114073,0.97979075\n",
       "171  SNPID_173  0.255571  0.96289223,0.029730404,0.0073773814\n",
       "71    SNPID_73  0.255571  0.0073773814,0.029730404,0.96289223\n",
       "191  SNPID_193  0.288233   0.0066580246,0.03753765,0.95580435"
      ]
     },
     "execution_count": 34,
     "metadata": {},
     "output_type": "execute_result"
    }
   ],
   "source": [
    "import numpy as np\n",
    "import pandas as pd\n",
    "import os\n",
    "from pysnptools.distreader import Bgen, DistMemMap\n",
    "\n",
    "bgen3 = Bgen(bgen_file,sid_function='id') #Create a Bgen reader, named 'bgen3'. Use the SNP id, ignore the RSID\n",
    "print(os.path.getsize(bgen_file)) #print size of *.bgen file\n",
    "\n",
    "#Convert to an on-disk/in-memory dist.memmap file. Under the covers, it automatically reads in batchs from Bgen.\n",
    "distmm = DistMemMap.write('example2.dist.memmap',bgen3,dtype='float32') \n",
    "print(os.path.getsize('example2.dist.memmap')) #print size of *.dist.memmap\n",
    "\n",
    "#Find the mean distribution for each SNP. This takes very little memory.\n",
    "meandist = np.nanmean(distmm.val,axis=0) # Like a DistData, DistMemMap's have a 'val', the NumPy array\n",
    "meandist_as_string = [','.join(row) for row in meandist.astype('str')]\n",
    "shannon2 = -np.sum(meandist*np.log2(meandist),axis=1) #compute the entropy of each SNP's distribution\n",
    "#Create a Pandas dataframe of results\n",
    "df = pd.DataFrame({'sid':distmm.sid,'shannon2':shannon2,'meandist':meandist_as_string})\n",
    "df.sort_values('shannon2',inplace=True)\n",
    "df[:5]"
   ]
  },
  {
   "cell_type": "markdown",
   "metadata": {},
   "source": [
    "In this example, using DistMemMap gives us fast access, very low memory, and simplier code. The cost is the use of more diskspace. Also, the format is not known to other tools."
   ]
  },
  {
   "cell_type": "markdown",
   "metadata": {},
   "source": [
    "# More Features: On-the-fly random data and reading multiple files as one.\n",
    "\n",
    "In this example, we'll generate random distributions, write to 22 bgen files and then read from all the files as one."
   ]
  },
  {
   "cell_type": "code",
   "execution_count": 35,
   "metadata": {},
   "outputs": [
    {
     "name": "stdout",
     "output_type": "stream",
     "text": [
      "(10, 10000)\n",
      "[['0' 'iid_0']\n",
      " ['0' 'iid_1']\n",
      " ['0' 'iid_2']\n",
      " ['0' 'iid_3']\n",
      " ['0' 'iid_4']]\n",
      "[[1.000000e+00 0.000000e+00 2.013180e+05]\n",
      " [1.000000e+00 0.000000e+00 5.076180e+05]\n",
      " [1.000000e+00 0.000000e+00 8.139180e+05]\n",
      " [1.000000e+00 0.000000e+00 1.120218e+06]\n",
      " [1.000000e+00 0.000000e+00 1.426518e+06]]\n"
     ]
    },
    {
     "data": {
      "text/plain": [
       "array([[[0.5758514 , 0.23658438, 0.18756425],\n",
       "        [       nan,        nan,        nan]],\n",
       "\n",
       "       [[0.4861365 , 0.26529667, 0.24856684],\n",
       "        [0.42888874, 0.14374886, 0.42736238]]], dtype=float32)"
      ]
     },
     "execution_count": 35,
     "metadata": {},
     "output_type": "execute_result"
    }
   ],
   "source": [
    "from pysnptools.distreader import DistGen #\"Gen\" here stands for 'generate'\n",
    "from pysnptools.distreader import Bgen #\"Gen\" here stands for 'genetic'\n",
    "\n",
    "distgen = DistGen(seed=123,iid_count=10,sid_count=10*1000) #Create a random generator for 10 individuals and 10K SNPs\n",
    "\n",
    "#Ask about the generator and 'read' (generate) 4 distribution values\n",
    "print(distgen.shape)   #print the # of individuals and # of SNPs\n",
    "print(distgen.iid[:5]) #print 1st 5 individuals\n",
    "print(distgen.pos[:5]) #print 1st chrom and position info for the 1st 5 SNPs\n",
    "distgen[:2,:2].read(dtype='float32').val"
   ]
  },
  {
   "cell_type": "markdown",
   "metadata": {},
   "source": [
    "DistGen doesn't really read from disk, but it acts like a reader. We can answer question such as: How many SNPs in chromosomes 22?"
   ]
  },
  {
   "cell_type": "code",
   "execution_count": 36,
   "metadata": {},
   "outputs": [
    {
     "data": {
      "text/plain": [
       "183"
      ]
     },
     "execution_count": 36,
     "metadata": {},
     "output_type": "execute_result"
    }
   ],
   "source": [
    "distgen[:,distgen.pos[:,0]==22].sid_count"
   ]
  },
  {
   "cell_type": "markdown",
   "metadata": {},
   "source": [
    "We'll generate Bgen files from chrom 1 to 22."
   ]
  },
  {
   "cell_type": "code",
   "execution_count": 37,
   "metadata": {},
   "outputs": [
    {
     "name": "stdout",
     "output_type": "stream",
     "text": [
      "\"chrom1.bgen\" has size 97225\n",
      "\"chrom2.bgen\" has size 95392\n",
      "\"chrom3.bgen\" has size 79987\n",
      "\"chrom4.bgen\" has size 75832\n",
      "\"chrom5.bgen\" has size 72303\n",
      "\"chrom6.bgen\" has size 68547\n",
      "\"chrom7.bgen\" has size 63995\n",
      "\"chrom8.bgen\" has size 58070\n",
      "\"chrom9.bgen\" has size 54547\n",
      "\"chrom10.bgen\" has size 54415\n",
      "\"chrom11.bgen\" has size 54404\n",
      "\"chrom12.bgen\" has size 54253\n",
      "\"chrom13.bgen\" has size 42989\n",
      "\"chrom14.bgen\" has size 41216\n",
      "\"chrom15.bgen\" has size 40024\n",
      "\"chrom16.bgen\" has size 37157\n",
      "\"chrom17.bgen\" has size 34867\n",
      "\"chrom18.bgen\" has size 32185\n",
      "\"chrom19.bgen\" has size 25311\n",
      "\"chrom20.bgen\" has size 27290\n",
      "\"chrom21.bgen\" has size 19072\n",
      "\"chrom22.bgen\" has size 21377\n",
      "CPU times: user 2.09 s, sys: 1.12 s, total: 3.22 s\n",
      "Wall time: 6.94 s\n"
     ]
    }
   ],
   "source": [
    "%%time\n",
    "for chrom in range(1,23): #generate Bgen files for chrom 1 to 22\n",
    "    filename = 'chrom{0}.bgen'.format(chrom)\n",
    "    Bgen.write(filename,distgen[:,distgen.pos[:,0]==chrom],bits=23)\n",
    "    print('\"{0}\" has size {1}'.format(filename,os.path.getsize(filename)))"
   ]
  },
  {
   "cell_type": "markdown",
   "metadata": {},
   "source": [
    "Now let's create a reader that reads from the 22 Bgen readers as if they were one reader"
   ]
  },
  {
   "cell_type": "code",
   "execution_count": 38,
   "metadata": {},
   "outputs": [
    {
     "data": {
      "text/plain": [
       "10000"
      ]
     },
     "execution_count": 38,
     "metadata": {},
     "output_type": "execute_result"
    }
   ],
   "source": [
    "from pysnptools.distreader import _DistMergeSIDs #Experimental - may change in future\n",
    "from pysnptools.distreader import Bgen\n",
    "\n",
    "reader_list = [Bgen('chrom{0}.bgen'.format(chrom),sid_function='id') for chrom in range(1,23)]\n",
    "mergereader = _DistMergeSIDs(reader_list,cache_file='mergecache.npz')\n",
    "mergereader.col_count"
   ]
  },
  {
   "cell_type": "markdown",
   "metadata": {},
   "source": [
    "We read the distribution data for the first individual and report it as a Pandas dataframe."
   ]
  },
  {
   "cell_type": "code",
   "execution_count": 39,
   "metadata": {},
   "outputs": [
    {
     "name": "stdout",
     "output_type": "stream",
     "text": [
      "CPU times: user 281 ms, sys: 15.6 ms, total: 297 ms\n",
      "Wall time: 284 ms\n"
     ]
    },
    {
     "data": {
      "text/html": [
       "<div>\n",
       "<style scoped>\n",
       "    .dataframe tbody tr th:only-of-type {\n",
       "        vertical-align: middle;\n",
       "    }\n",
       "\n",
       "    .dataframe tbody tr th {\n",
       "        vertical-align: top;\n",
       "    }\n",
       "\n",
       "    .dataframe thead th {\n",
       "        text-align: right;\n",
       "    }\n",
       "</style>\n",
       "<table border=\"1\" class=\"dataframe\">\n",
       "  <thead>\n",
       "    <tr style=\"text-align: right;\">\n",
       "      <th></th>\n",
       "      <th>chrom</th>\n",
       "      <th>dist</th>\n",
       "    </tr>\n",
       "  </thead>\n",
       "  <tbody>\n",
       "    <tr>\n",
       "      <th>9995</th>\n",
       "      <td>22.0</td>\n",
       "      <td>0.71602553,0.06342936,0.22054508</td>\n",
       "    </tr>\n",
       "    <tr>\n",
       "      <th>9996</th>\n",
       "      <td>22.0</td>\n",
       "      <td>0.3978395,0.37203208,0.23012844</td>\n",
       "    </tr>\n",
       "    <tr>\n",
       "      <th>9997</th>\n",
       "      <td>22.0</td>\n",
       "      <td>0.28160134,0.49221784,0.22618082</td>\n",
       "    </tr>\n",
       "    <tr>\n",
       "      <th>9998</th>\n",
       "      <td>22.0</td>\n",
       "      <td>0.43593293,0.07652164,0.48754543</td>\n",
       "    </tr>\n",
       "    <tr>\n",
       "      <th>9999</th>\n",
       "      <td>22.0</td>\n",
       "      <td>0.08245934,0.572817,0.3447236</td>\n",
       "    </tr>\n",
       "  </tbody>\n",
       "</table>\n",
       "</div>"
      ],
      "text/plain": [
       "      chrom                              dist\n",
       "9995   22.0  0.71602553,0.06342936,0.22054508\n",
       "9996   22.0   0.3978395,0.37203208,0.23012844\n",
       "9997   22.0  0.28160134,0.49221784,0.22618082\n",
       "9998   22.0  0.43593293,0.07652164,0.48754543\n",
       "9999   22.0     0.08245934,0.572817,0.3447236"
      ]
     },
     "execution_count": 39,
     "metadata": {},
     "output_type": "execute_result"
    }
   ],
   "source": [
    "%%time\n",
    "import pandas as pd\n",
    "\n",
    "firstiid = mergereader[0,:].read(dtype='float32') #Read the data for the first individual across all SNPs\n",
    "dist_as_string = [','.join(row) for row in firstiid.val[0,:].astype('str')]\n",
    "df = pd.DataFrame({'chrom':firstiid.pos[:,0],'dist':dist_as_string})\n",
    "df[-5:] #Show the last 5 rows"
   ]
  }
 ],
 "metadata": {
  "kernelspec": {
   "display_name": "Python 3",
   "language": "python",
   "name": "python3"
  },
  "language_info": {
   "codemirror_mode": {
    "name": "ipython",
    "version": 3
   },
   "file_extension": ".py",
   "mimetype": "text/x-python",
   "name": "python",
   "nbconvert_exporter": "python",
   "pygments_lexer": "ipython3",
   "version": "3.7.4"
  }
 },
 "nbformat": 4,
 "nbformat_minor": 2
}
